{
  "nbformat": 4,
  "nbformat_minor": 0,
  "metadata": {
    "colab": {
      "provenance": []
    },
    "kernelspec": {
      "name": "python3",
      "display_name": "Python 3"
    },
    "language_info": {
      "name": "python"
    }
  },
  "cells": [
    {
      "cell_type": "markdown",
      "source": [
        "# Project Title:  Housing Data Analysis"
      ],
      "metadata": {
        "id": "8x5nEdRq12BL"
      }
    },
    {
      "cell_type": "markdown",
      "source": [
        "\n",
        "\n",
        "#Introduction:\n",
        "\n",
        "\n",
        "\n",
        "This project aims to analyze the California housing dataset, which contains information about housing characteristics in different regions of California. We'll explore and visualize various features of the dataset and gain insights into the California housing market."
      ],
      "metadata": {
        "id": "w_t1aguxgfuH"
      }
    },
    {
      "cell_type": "code",
      "execution_count": null,
      "metadata": {
        "id": "Sfy9OfmggWxQ"
      },
      "outputs": [],
      "source": [
        "#importing required packages\n",
        "import numpy as np\n",
        "import pandas as pd\n",
        "import matplotlib.pyplot as plt\n",
        "import seaborn as sns"
      ]
    },
    {
      "cell_type": "markdown",
      "source": [
        "Loading data to data frame\n"
      ],
      "metadata": {
        "id": "kt3uvaTaH8p6"
      }
    },
    {
      "cell_type": "code",
      "source": [
        "url = \"/content/drive/MyDrive/DATA_sets/housing+(1).xlsx\"\n",
        "df = pd.read_excel(url)   # convert to pandas dataframe\n",
        "df.head()"
      ],
      "metadata": {
        "colab": {
          "base_uri": "https://localhost:8080/",
          "height": 226
        },
        "id": "klErXKCCgjez",
        "outputId": "d2a09287-f463-4a39-d7da-1babf1fb362b"
      },
      "execution_count": null,
      "outputs": [
        {
          "output_type": "execute_result",
          "data": {
            "text/plain": [
              "   longitude  latitude  housing_median_age  total_rooms  total_bedrooms  \\\n",
              "0    -122.23     37.88                  41          880           129.0   \n",
              "1    -122.22     37.86                  21         7099          1106.0   \n",
              "2    -122.24     37.85                  52         1467           190.0   \n",
              "3    -122.25     37.85                  52         1274           235.0   \n",
              "4    -122.25     37.85                  52         1627           280.0   \n",
              "\n",
              "   population  households  median_income  median_house_value ocean_proximity  \n",
              "0         322         126         8.3252              452600        NEAR BAY  \n",
              "1        2401        1138         8.3014              358500        NEAR BAY  \n",
              "2         496         177         7.2574              352100        NEAR BAY  \n",
              "3         558         219         5.6431              341300        NEAR BAY  \n",
              "4         565         259         3.8462              342200        NEAR BAY  "
            ],
            "text/html": [
              "\n",
              "  <div id=\"df-7613870a-9bd6-4193-9f39-68c24da47e92\" class=\"colab-df-container\">\n",
              "    <div>\n",
              "<style scoped>\n",
              "    .dataframe tbody tr th:only-of-type {\n",
              "        vertical-align: middle;\n",
              "    }\n",
              "\n",
              "    .dataframe tbody tr th {\n",
              "        vertical-align: top;\n",
              "    }\n",
              "\n",
              "    .dataframe thead th {\n",
              "        text-align: right;\n",
              "    }\n",
              "</style>\n",
              "<table border=\"1\" class=\"dataframe\">\n",
              "  <thead>\n",
              "    <tr style=\"text-align: right;\">\n",
              "      <th></th>\n",
              "      <th>longitude</th>\n",
              "      <th>latitude</th>\n",
              "      <th>housing_median_age</th>\n",
              "      <th>total_rooms</th>\n",
              "      <th>total_bedrooms</th>\n",
              "      <th>population</th>\n",
              "      <th>households</th>\n",
              "      <th>median_income</th>\n",
              "      <th>median_house_value</th>\n",
              "      <th>ocean_proximity</th>\n",
              "    </tr>\n",
              "  </thead>\n",
              "  <tbody>\n",
              "    <tr>\n",
              "      <th>0</th>\n",
              "      <td>-122.23</td>\n",
              "      <td>37.88</td>\n",
              "      <td>41</td>\n",
              "      <td>880</td>\n",
              "      <td>129.0</td>\n",
              "      <td>322</td>\n",
              "      <td>126</td>\n",
              "      <td>8.3252</td>\n",
              "      <td>452600</td>\n",
              "      <td>NEAR BAY</td>\n",
              "    </tr>\n",
              "    <tr>\n",
              "      <th>1</th>\n",
              "      <td>-122.22</td>\n",
              "      <td>37.86</td>\n",
              "      <td>21</td>\n",
              "      <td>7099</td>\n",
              "      <td>1106.0</td>\n",
              "      <td>2401</td>\n",
              "      <td>1138</td>\n",
              "      <td>8.3014</td>\n",
              "      <td>358500</td>\n",
              "      <td>NEAR BAY</td>\n",
              "    </tr>\n",
              "    <tr>\n",
              "      <th>2</th>\n",
              "      <td>-122.24</td>\n",
              "      <td>37.85</td>\n",
              "      <td>52</td>\n",
              "      <td>1467</td>\n",
              "      <td>190.0</td>\n",
              "      <td>496</td>\n",
              "      <td>177</td>\n",
              "      <td>7.2574</td>\n",
              "      <td>352100</td>\n",
              "      <td>NEAR BAY</td>\n",
              "    </tr>\n",
              "    <tr>\n",
              "      <th>3</th>\n",
              "      <td>-122.25</td>\n",
              "      <td>37.85</td>\n",
              "      <td>52</td>\n",
              "      <td>1274</td>\n",
              "      <td>235.0</td>\n",
              "      <td>558</td>\n",
              "      <td>219</td>\n",
              "      <td>5.6431</td>\n",
              "      <td>341300</td>\n",
              "      <td>NEAR BAY</td>\n",
              "    </tr>\n",
              "    <tr>\n",
              "      <th>4</th>\n",
              "      <td>-122.25</td>\n",
              "      <td>37.85</td>\n",
              "      <td>52</td>\n",
              "      <td>1627</td>\n",
              "      <td>280.0</td>\n",
              "      <td>565</td>\n",
              "      <td>259</td>\n",
              "      <td>3.8462</td>\n",
              "      <td>342200</td>\n",
              "      <td>NEAR BAY</td>\n",
              "    </tr>\n",
              "  </tbody>\n",
              "</table>\n",
              "</div>\n",
              "    <div class=\"colab-df-buttons\">\n",
              "\n",
              "  <div class=\"colab-df-container\">\n",
              "    <button class=\"colab-df-convert\" onclick=\"convertToInteractive('df-7613870a-9bd6-4193-9f39-68c24da47e92')\"\n",
              "            title=\"Convert this dataframe to an interactive table.\"\n",
              "            style=\"display:none;\">\n",
              "\n",
              "  <svg xmlns=\"http://www.w3.org/2000/svg\" height=\"24px\" viewBox=\"0 -960 960 960\">\n",
              "    <path d=\"M120-120v-720h720v720H120Zm60-500h600v-160H180v160Zm220 220h160v-160H400v160Zm0 220h160v-160H400v160ZM180-400h160v-160H180v160Zm440 0h160v-160H620v160ZM180-180h160v-160H180v160Zm440 0h160v-160H620v160Z\"/>\n",
              "  </svg>\n",
              "    </button>\n",
              "\n",
              "  <style>\n",
              "    .colab-df-container {\n",
              "      display:flex;\n",
              "      gap: 12px;\n",
              "    }\n",
              "\n",
              "    .colab-df-convert {\n",
              "      background-color: #E8F0FE;\n",
              "      border: none;\n",
              "      border-radius: 50%;\n",
              "      cursor: pointer;\n",
              "      display: none;\n",
              "      fill: #1967D2;\n",
              "      height: 32px;\n",
              "      padding: 0 0 0 0;\n",
              "      width: 32px;\n",
              "    }\n",
              "\n",
              "    .colab-df-convert:hover {\n",
              "      background-color: #E2EBFA;\n",
              "      box-shadow: 0px 1px 2px rgba(60, 64, 67, 0.3), 0px 1px 3px 1px rgba(60, 64, 67, 0.15);\n",
              "      fill: #174EA6;\n",
              "    }\n",
              "\n",
              "    .colab-df-buttons div {\n",
              "      margin-bottom: 4px;\n",
              "    }\n",
              "\n",
              "    [theme=dark] .colab-df-convert {\n",
              "      background-color: #3B4455;\n",
              "      fill: #D2E3FC;\n",
              "    }\n",
              "\n",
              "    [theme=dark] .colab-df-convert:hover {\n",
              "      background-color: #434B5C;\n",
              "      box-shadow: 0px 1px 3px 1px rgba(0, 0, 0, 0.15);\n",
              "      filter: drop-shadow(0px 1px 2px rgba(0, 0, 0, 0.3));\n",
              "      fill: #FFFFFF;\n",
              "    }\n",
              "  </style>\n",
              "\n",
              "    <script>\n",
              "      const buttonEl =\n",
              "        document.querySelector('#df-7613870a-9bd6-4193-9f39-68c24da47e92 button.colab-df-convert');\n",
              "      buttonEl.style.display =\n",
              "        google.colab.kernel.accessAllowed ? 'block' : 'none';\n",
              "\n",
              "      async function convertToInteractive(key) {\n",
              "        const element = document.querySelector('#df-7613870a-9bd6-4193-9f39-68c24da47e92');\n",
              "        const dataTable =\n",
              "          await google.colab.kernel.invokeFunction('convertToInteractive',\n",
              "                                                    [key], {});\n",
              "        if (!dataTable) return;\n",
              "\n",
              "        const docLinkHtml = 'Like what you see? Visit the ' +\n",
              "          '<a target=\"_blank\" href=https://colab.research.google.com/notebooks/data_table.ipynb>data table notebook</a>'\n",
              "          + ' to learn more about interactive tables.';\n",
              "        element.innerHTML = '';\n",
              "        dataTable['output_type'] = 'display_data';\n",
              "        await google.colab.output.renderOutput(dataTable, element);\n",
              "        const docLink = document.createElement('div');\n",
              "        docLink.innerHTML = docLinkHtml;\n",
              "        element.appendChild(docLink);\n",
              "      }\n",
              "    </script>\n",
              "  </div>\n",
              "\n",
              "\n",
              "<div id=\"df-9e94c506-7138-41b3-afe7-386c9e8f07fc\">\n",
              "  <button class=\"colab-df-quickchart\" onclick=\"quickchart('df-9e94c506-7138-41b3-afe7-386c9e8f07fc')\"\n",
              "            title=\"Suggest charts.\"\n",
              "            style=\"display:none;\">\n",
              "\n",
              "<svg xmlns=\"http://www.w3.org/2000/svg\" height=\"24px\"viewBox=\"0 0 24 24\"\n",
              "     width=\"24px\">\n",
              "    <g>\n",
              "        <path d=\"M19 3H5c-1.1 0-2 .9-2 2v14c0 1.1.9 2 2 2h14c1.1 0 2-.9 2-2V5c0-1.1-.9-2-2-2zM9 17H7v-7h2v7zm4 0h-2V7h2v10zm4 0h-2v-4h2v4z\"/>\n",
              "    </g>\n",
              "</svg>\n",
              "  </button>\n",
              "\n",
              "<style>\n",
              "  .colab-df-quickchart {\n",
              "    background-color: #E8F0FE;\n",
              "    border: none;\n",
              "    border-radius: 50%;\n",
              "    cursor: pointer;\n",
              "    display: none;\n",
              "    fill: #1967D2;\n",
              "    height: 32px;\n",
              "    padding: 0 0 0 0;\n",
              "    width: 32px;\n",
              "  }\n",
              "\n",
              "  .colab-df-quickchart:hover {\n",
              "    background-color: #E2EBFA;\n",
              "    box-shadow: 0px 1px 2px rgba(60, 64, 67, 0.3), 0px 1px 3px 1px rgba(60, 64, 67, 0.15);\n",
              "    fill: #174EA6;\n",
              "  }\n",
              "\n",
              "  [theme=dark] .colab-df-quickchart {\n",
              "    background-color: #3B4455;\n",
              "    fill: #D2E3FC;\n",
              "  }\n",
              "\n",
              "  [theme=dark] .colab-df-quickchart:hover {\n",
              "    background-color: #434B5C;\n",
              "    box-shadow: 0px 1px 3px 1px rgba(0, 0, 0, 0.15);\n",
              "    filter: drop-shadow(0px 1px 2px rgba(0, 0, 0, 0.3));\n",
              "    fill: #FFFFFF;\n",
              "  }\n",
              "</style>\n",
              "\n",
              "  <script>\n",
              "    async function quickchart(key) {\n",
              "      const charts = await google.colab.kernel.invokeFunction(\n",
              "          'suggestCharts', [key], {});\n",
              "    }\n",
              "    (() => {\n",
              "      let quickchartButtonEl =\n",
              "        document.querySelector('#df-9e94c506-7138-41b3-afe7-386c9e8f07fc button');\n",
              "      quickchartButtonEl.style.display =\n",
              "        google.colab.kernel.accessAllowed ? 'block' : 'none';\n",
              "    })();\n",
              "  </script>\n",
              "</div>\n",
              "    </div>\n",
              "  </div>\n"
            ]
          },
          "metadata": {},
          "execution_count": 7
        }
      ]
    },
    {
      "cell_type": "code",
      "source": [
        "df.columns  # columns attribute returns column labels"
      ],
      "metadata": {
        "colab": {
          "base_uri": "https://localhost:8080/"
        },
        "id": "0I3mvJZmhjz-",
        "outputId": "7ec358a1-0a89-4ab2-b835-7e8208e2f910"
      },
      "execution_count": null,
      "outputs": [
        {
          "output_type": "execute_result",
          "data": {
            "text/plain": [
              "Index(['longitude', 'latitude', 'housing_median_age', 'total_rooms',\n",
              "       'total_bedrooms', 'population', 'households', 'median_income',\n",
              "       'median_house_value', 'ocean_proximity'],\n",
              "      dtype='object')"
            ]
          },
          "metadata": {},
          "execution_count": 8
        }
      ]
    },
    {
      "cell_type": "code",
      "source": [
        "df.shape#dataframe contains 20640 rows and 10 columns"
      ],
      "metadata": {
        "colab": {
          "base_uri": "https://localhost:8080/"
        },
        "id": "o_MdC72ghknD",
        "outputId": "923b48b8-332d-47ac-c985-cc81984f3bd3"
      },
      "execution_count": null,
      "outputs": [
        {
          "output_type": "execute_result",
          "data": {
            "text/plain": [
              "(20640, 10)"
            ]
          },
          "metadata": {},
          "execution_count": 9
        }
      ]
    },
    {
      "cell_type": "code",
      "source": [
        "df.info() #checking columns and their data types"
      ],
      "metadata": {
        "colab": {
          "base_uri": "https://localhost:8080/"
        },
        "id": "Nhls4j-Jhv2_",
        "outputId": "23157c46-34f2-4011-de65-addd3f69c069"
      },
      "execution_count": null,
      "outputs": [
        {
          "output_type": "stream",
          "name": "stdout",
          "text": [
            "<class 'pandas.core.frame.DataFrame'>\n",
            "RangeIndex: 20640 entries, 0 to 20639\n",
            "Data columns (total 10 columns):\n",
            " #   Column              Non-Null Count  Dtype  \n",
            "---  ------              --------------  -----  \n",
            " 0   longitude           20640 non-null  float64\n",
            " 1   latitude            20640 non-null  float64\n",
            " 2   housing_median_age  20640 non-null  int64  \n",
            " 3   total_rooms         20640 non-null  int64  \n",
            " 4   total_bedrooms      20433 non-null  float64\n",
            " 5   population          20640 non-null  int64  \n",
            " 6   households          20640 non-null  int64  \n",
            " 7   median_income       20640 non-null  float64\n",
            " 8   median_house_value  20640 non-null  int64  \n",
            " 9   ocean_proximity     20640 non-null  object \n",
            "dtypes: float64(4), int64(5), object(1)\n",
            "memory usage: 1.6+ MB\n"
          ]
        }
      ]
    },
    {
      "cell_type": "code",
      "source": [
        "df.describe() #calculating basic statistics"
      ],
      "metadata": {
        "colab": {
          "base_uri": "https://localhost:8080/",
          "height": 320
        },
        "id": "lrVKTpOMhzmq",
        "outputId": "1d7629fe-71fc-42de-ec1b-92787874d4fb"
      },
      "execution_count": null,
      "outputs": [
        {
          "output_type": "execute_result",
          "data": {
            "text/plain": [
              "          longitude      latitude  housing_median_age   total_rooms  \\\n",
              "count  20640.000000  20640.000000        20640.000000  20640.000000   \n",
              "mean    -119.569704     35.631861           28.639486   2635.763081   \n",
              "std        2.003532      2.135952           12.585558   2181.615252   \n",
              "min     -124.350000     32.540000            1.000000      2.000000   \n",
              "25%     -121.800000     33.930000           18.000000   1447.750000   \n",
              "50%     -118.490000     34.260000           29.000000   2127.000000   \n",
              "75%     -118.010000     37.710000           37.000000   3148.000000   \n",
              "max     -114.310000     41.950000           52.000000  39320.000000   \n",
              "\n",
              "       total_bedrooms    population    households  median_income  \\\n",
              "count    20433.000000  20640.000000  20640.000000   20640.000000   \n",
              "mean       537.870553   1425.476744    499.539680       3.870671   \n",
              "std        421.385070   1132.462122    382.329753       1.899822   \n",
              "min          1.000000      3.000000      1.000000       0.499900   \n",
              "25%        296.000000    787.000000    280.000000       2.563400   \n",
              "50%        435.000000   1166.000000    409.000000       3.534800   \n",
              "75%        647.000000   1725.000000    605.000000       4.743250   \n",
              "max       6445.000000  35682.000000   6082.000000      15.000100   \n",
              "\n",
              "       median_house_value  \n",
              "count        20640.000000  \n",
              "mean        206855.816909  \n",
              "std         115395.615874  \n",
              "min          14999.000000  \n",
              "25%         119600.000000  \n",
              "50%         179700.000000  \n",
              "75%         264725.000000  \n",
              "max         500001.000000  "
            ],
            "text/html": [
              "\n",
              "  <div id=\"df-7cc526f5-ef90-46a0-94e6-a4e1dd32d7e4\" class=\"colab-df-container\">\n",
              "    <div>\n",
              "<style scoped>\n",
              "    .dataframe tbody tr th:only-of-type {\n",
              "        vertical-align: middle;\n",
              "    }\n",
              "\n",
              "    .dataframe tbody tr th {\n",
              "        vertical-align: top;\n",
              "    }\n",
              "\n",
              "    .dataframe thead th {\n",
              "        text-align: right;\n",
              "    }\n",
              "</style>\n",
              "<table border=\"1\" class=\"dataframe\">\n",
              "  <thead>\n",
              "    <tr style=\"text-align: right;\">\n",
              "      <th></th>\n",
              "      <th>longitude</th>\n",
              "      <th>latitude</th>\n",
              "      <th>housing_median_age</th>\n",
              "      <th>total_rooms</th>\n",
              "      <th>total_bedrooms</th>\n",
              "      <th>population</th>\n",
              "      <th>households</th>\n",
              "      <th>median_income</th>\n",
              "      <th>median_house_value</th>\n",
              "    </tr>\n",
              "  </thead>\n",
              "  <tbody>\n",
              "    <tr>\n",
              "      <th>count</th>\n",
              "      <td>20640.000000</td>\n",
              "      <td>20640.000000</td>\n",
              "      <td>20640.000000</td>\n",
              "      <td>20640.000000</td>\n",
              "      <td>20433.000000</td>\n",
              "      <td>20640.000000</td>\n",
              "      <td>20640.000000</td>\n",
              "      <td>20640.000000</td>\n",
              "      <td>20640.000000</td>\n",
              "    </tr>\n",
              "    <tr>\n",
              "      <th>mean</th>\n",
              "      <td>-119.569704</td>\n",
              "      <td>35.631861</td>\n",
              "      <td>28.639486</td>\n",
              "      <td>2635.763081</td>\n",
              "      <td>537.870553</td>\n",
              "      <td>1425.476744</td>\n",
              "      <td>499.539680</td>\n",
              "      <td>3.870671</td>\n",
              "      <td>206855.816909</td>\n",
              "    </tr>\n",
              "    <tr>\n",
              "      <th>std</th>\n",
              "      <td>2.003532</td>\n",
              "      <td>2.135952</td>\n",
              "      <td>12.585558</td>\n",
              "      <td>2181.615252</td>\n",
              "      <td>421.385070</td>\n",
              "      <td>1132.462122</td>\n",
              "      <td>382.329753</td>\n",
              "      <td>1.899822</td>\n",
              "      <td>115395.615874</td>\n",
              "    </tr>\n",
              "    <tr>\n",
              "      <th>min</th>\n",
              "      <td>-124.350000</td>\n",
              "      <td>32.540000</td>\n",
              "      <td>1.000000</td>\n",
              "      <td>2.000000</td>\n",
              "      <td>1.000000</td>\n",
              "      <td>3.000000</td>\n",
              "      <td>1.000000</td>\n",
              "      <td>0.499900</td>\n",
              "      <td>14999.000000</td>\n",
              "    </tr>\n",
              "    <tr>\n",
              "      <th>25%</th>\n",
              "      <td>-121.800000</td>\n",
              "      <td>33.930000</td>\n",
              "      <td>18.000000</td>\n",
              "      <td>1447.750000</td>\n",
              "      <td>296.000000</td>\n",
              "      <td>787.000000</td>\n",
              "      <td>280.000000</td>\n",
              "      <td>2.563400</td>\n",
              "      <td>119600.000000</td>\n",
              "    </tr>\n",
              "    <tr>\n",
              "      <th>50%</th>\n",
              "      <td>-118.490000</td>\n",
              "      <td>34.260000</td>\n",
              "      <td>29.000000</td>\n",
              "      <td>2127.000000</td>\n",
              "      <td>435.000000</td>\n",
              "      <td>1166.000000</td>\n",
              "      <td>409.000000</td>\n",
              "      <td>3.534800</td>\n",
              "      <td>179700.000000</td>\n",
              "    </tr>\n",
              "    <tr>\n",
              "      <th>75%</th>\n",
              "      <td>-118.010000</td>\n",
              "      <td>37.710000</td>\n",
              "      <td>37.000000</td>\n",
              "      <td>3148.000000</td>\n",
              "      <td>647.000000</td>\n",
              "      <td>1725.000000</td>\n",
              "      <td>605.000000</td>\n",
              "      <td>4.743250</td>\n",
              "      <td>264725.000000</td>\n",
              "    </tr>\n",
              "    <tr>\n",
              "      <th>max</th>\n",
              "      <td>-114.310000</td>\n",
              "      <td>41.950000</td>\n",
              "      <td>52.000000</td>\n",
              "      <td>39320.000000</td>\n",
              "      <td>6445.000000</td>\n",
              "      <td>35682.000000</td>\n",
              "      <td>6082.000000</td>\n",
              "      <td>15.000100</td>\n",
              "      <td>500001.000000</td>\n",
              "    </tr>\n",
              "  </tbody>\n",
              "</table>\n",
              "</div>\n",
              "    <div class=\"colab-df-buttons\">\n",
              "\n",
              "  <div class=\"colab-df-container\">\n",
              "    <button class=\"colab-df-convert\" onclick=\"convertToInteractive('df-7cc526f5-ef90-46a0-94e6-a4e1dd32d7e4')\"\n",
              "            title=\"Convert this dataframe to an interactive table.\"\n",
              "            style=\"display:none;\">\n",
              "\n",
              "  <svg xmlns=\"http://www.w3.org/2000/svg\" height=\"24px\" viewBox=\"0 -960 960 960\">\n",
              "    <path d=\"M120-120v-720h720v720H120Zm60-500h600v-160H180v160Zm220 220h160v-160H400v160Zm0 220h160v-160H400v160ZM180-400h160v-160H180v160Zm440 0h160v-160H620v160ZM180-180h160v-160H180v160Zm440 0h160v-160H620v160Z\"/>\n",
              "  </svg>\n",
              "    </button>\n",
              "\n",
              "  <style>\n",
              "    .colab-df-container {\n",
              "      display:flex;\n",
              "      gap: 12px;\n",
              "    }\n",
              "\n",
              "    .colab-df-convert {\n",
              "      background-color: #E8F0FE;\n",
              "      border: none;\n",
              "      border-radius: 50%;\n",
              "      cursor: pointer;\n",
              "      display: none;\n",
              "      fill: #1967D2;\n",
              "      height: 32px;\n",
              "      padding: 0 0 0 0;\n",
              "      width: 32px;\n",
              "    }\n",
              "\n",
              "    .colab-df-convert:hover {\n",
              "      background-color: #E2EBFA;\n",
              "      box-shadow: 0px 1px 2px rgba(60, 64, 67, 0.3), 0px 1px 3px 1px rgba(60, 64, 67, 0.15);\n",
              "      fill: #174EA6;\n",
              "    }\n",
              "\n",
              "    .colab-df-buttons div {\n",
              "      margin-bottom: 4px;\n",
              "    }\n",
              "\n",
              "    [theme=dark] .colab-df-convert {\n",
              "      background-color: #3B4455;\n",
              "      fill: #D2E3FC;\n",
              "    }\n",
              "\n",
              "    [theme=dark] .colab-df-convert:hover {\n",
              "      background-color: #434B5C;\n",
              "      box-shadow: 0px 1px 3px 1px rgba(0, 0, 0, 0.15);\n",
              "      filter: drop-shadow(0px 1px 2px rgba(0, 0, 0, 0.3));\n",
              "      fill: #FFFFFF;\n",
              "    }\n",
              "  </style>\n",
              "\n",
              "    <script>\n",
              "      const buttonEl =\n",
              "        document.querySelector('#df-7cc526f5-ef90-46a0-94e6-a4e1dd32d7e4 button.colab-df-convert');\n",
              "      buttonEl.style.display =\n",
              "        google.colab.kernel.accessAllowed ? 'block' : 'none';\n",
              "\n",
              "      async function convertToInteractive(key) {\n",
              "        const element = document.querySelector('#df-7cc526f5-ef90-46a0-94e6-a4e1dd32d7e4');\n",
              "        const dataTable =\n",
              "          await google.colab.kernel.invokeFunction('convertToInteractive',\n",
              "                                                    [key], {});\n",
              "        if (!dataTable) return;\n",
              "\n",
              "        const docLinkHtml = 'Like what you see? Visit the ' +\n",
              "          '<a target=\"_blank\" href=https://colab.research.google.com/notebooks/data_table.ipynb>data table notebook</a>'\n",
              "          + ' to learn more about interactive tables.';\n",
              "        element.innerHTML = '';\n",
              "        dataTable['output_type'] = 'display_data';\n",
              "        await google.colab.output.renderOutput(dataTable, element);\n",
              "        const docLink = document.createElement('div');\n",
              "        docLink.innerHTML = docLinkHtml;\n",
              "        element.appendChild(docLink);\n",
              "      }\n",
              "    </script>\n",
              "  </div>\n",
              "\n",
              "\n",
              "<div id=\"df-7d83afd2-ea34-482c-89d8-2b961f5bb2cc\">\n",
              "  <button class=\"colab-df-quickchart\" onclick=\"quickchart('df-7d83afd2-ea34-482c-89d8-2b961f5bb2cc')\"\n",
              "            title=\"Suggest charts.\"\n",
              "            style=\"display:none;\">\n",
              "\n",
              "<svg xmlns=\"http://www.w3.org/2000/svg\" height=\"24px\"viewBox=\"0 0 24 24\"\n",
              "     width=\"24px\">\n",
              "    <g>\n",
              "        <path d=\"M19 3H5c-1.1 0-2 .9-2 2v14c0 1.1.9 2 2 2h14c1.1 0 2-.9 2-2V5c0-1.1-.9-2-2-2zM9 17H7v-7h2v7zm4 0h-2V7h2v10zm4 0h-2v-4h2v4z\"/>\n",
              "    </g>\n",
              "</svg>\n",
              "  </button>\n",
              "\n",
              "<style>\n",
              "  .colab-df-quickchart {\n",
              "    background-color: #E8F0FE;\n",
              "    border: none;\n",
              "    border-radius: 50%;\n",
              "    cursor: pointer;\n",
              "    display: none;\n",
              "    fill: #1967D2;\n",
              "    height: 32px;\n",
              "    padding: 0 0 0 0;\n",
              "    width: 32px;\n",
              "  }\n",
              "\n",
              "  .colab-df-quickchart:hover {\n",
              "    background-color: #E2EBFA;\n",
              "    box-shadow: 0px 1px 2px rgba(60, 64, 67, 0.3), 0px 1px 3px 1px rgba(60, 64, 67, 0.15);\n",
              "    fill: #174EA6;\n",
              "  }\n",
              "\n",
              "  [theme=dark] .colab-df-quickchart {\n",
              "    background-color: #3B4455;\n",
              "    fill: #D2E3FC;\n",
              "  }\n",
              "\n",
              "  [theme=dark] .colab-df-quickchart:hover {\n",
              "    background-color: #434B5C;\n",
              "    box-shadow: 0px 1px 3px 1px rgba(0, 0, 0, 0.15);\n",
              "    filter: drop-shadow(0px 1px 2px rgba(0, 0, 0, 0.3));\n",
              "    fill: #FFFFFF;\n",
              "  }\n",
              "</style>\n",
              "\n",
              "  <script>\n",
              "    async function quickchart(key) {\n",
              "      const charts = await google.colab.kernel.invokeFunction(\n",
              "          'suggestCharts', [key], {});\n",
              "    }\n",
              "    (() => {\n",
              "      let quickchartButtonEl =\n",
              "        document.querySelector('#df-7d83afd2-ea34-482c-89d8-2b961f5bb2cc button');\n",
              "      quickchartButtonEl.style.display =\n",
              "        google.colab.kernel.accessAllowed ? 'block' : 'none';\n",
              "    })();\n",
              "  </script>\n",
              "</div>\n",
              "    </div>\n",
              "  </div>\n"
            ]
          },
          "metadata": {},
          "execution_count": 14
        }
      ]
    },
    {
      "cell_type": "code",
      "source": [
        "df.describe(include='all') # all columns of the df will be included in the output"
      ],
      "metadata": {
        "colab": {
          "base_uri": "https://localhost:8080/",
          "height": 414
        },
        "id": "FKoZb4Qth2BS",
        "outputId": "baaacd2c-b740-42ca-9081-e39107e0a8fd"
      },
      "execution_count": null,
      "outputs": [
        {
          "output_type": "execute_result",
          "data": {
            "text/plain": [
              "           longitude      latitude  housing_median_age   total_rooms  \\\n",
              "count   20640.000000  20640.000000        20640.000000  20640.000000   \n",
              "unique           NaN           NaN                 NaN           NaN   \n",
              "top              NaN           NaN                 NaN           NaN   \n",
              "freq             NaN           NaN                 NaN           NaN   \n",
              "mean     -119.569704     35.631861           28.639486   2635.763081   \n",
              "std         2.003532      2.135952           12.585558   2181.615252   \n",
              "min      -124.350000     32.540000            1.000000      2.000000   \n",
              "25%      -121.800000     33.930000           18.000000   1447.750000   \n",
              "50%      -118.490000     34.260000           29.000000   2127.000000   \n",
              "75%      -118.010000     37.710000           37.000000   3148.000000   \n",
              "max      -114.310000     41.950000           52.000000  39320.000000   \n",
              "\n",
              "        total_bedrooms    population    households  median_income  \\\n",
              "count     20433.000000  20640.000000  20640.000000   20640.000000   \n",
              "unique             NaN           NaN           NaN            NaN   \n",
              "top                NaN           NaN           NaN            NaN   \n",
              "freq               NaN           NaN           NaN            NaN   \n",
              "mean        537.870553   1425.476744    499.539680       3.870671   \n",
              "std         421.385070   1132.462122    382.329753       1.899822   \n",
              "min           1.000000      3.000000      1.000000       0.499900   \n",
              "25%         296.000000    787.000000    280.000000       2.563400   \n",
              "50%         435.000000   1166.000000    409.000000       3.534800   \n",
              "75%         647.000000   1725.000000    605.000000       4.743250   \n",
              "max        6445.000000  35682.000000   6082.000000      15.000100   \n",
              "\n",
              "        median_house_value ocean_proximity  \n",
              "count         20640.000000           20640  \n",
              "unique                 NaN               5  \n",
              "top                    NaN       <1H OCEAN  \n",
              "freq                   NaN            9136  \n",
              "mean         206855.816909             NaN  \n",
              "std          115395.615874             NaN  \n",
              "min           14999.000000             NaN  \n",
              "25%          119600.000000             NaN  \n",
              "50%          179700.000000             NaN  \n",
              "75%          264725.000000             NaN  \n",
              "max          500001.000000             NaN  "
            ],
            "text/html": [
              "\n",
              "  <div id=\"df-400b2c4c-6977-41d2-b243-f5b7764a25ee\" class=\"colab-df-container\">\n",
              "    <div>\n",
              "<style scoped>\n",
              "    .dataframe tbody tr th:only-of-type {\n",
              "        vertical-align: middle;\n",
              "    }\n",
              "\n",
              "    .dataframe tbody tr th {\n",
              "        vertical-align: top;\n",
              "    }\n",
              "\n",
              "    .dataframe thead th {\n",
              "        text-align: right;\n",
              "    }\n",
              "</style>\n",
              "<table border=\"1\" class=\"dataframe\">\n",
              "  <thead>\n",
              "    <tr style=\"text-align: right;\">\n",
              "      <th></th>\n",
              "      <th>longitude</th>\n",
              "      <th>latitude</th>\n",
              "      <th>housing_median_age</th>\n",
              "      <th>total_rooms</th>\n",
              "      <th>total_bedrooms</th>\n",
              "      <th>population</th>\n",
              "      <th>households</th>\n",
              "      <th>median_income</th>\n",
              "      <th>median_house_value</th>\n",
              "      <th>ocean_proximity</th>\n",
              "    </tr>\n",
              "  </thead>\n",
              "  <tbody>\n",
              "    <tr>\n",
              "      <th>count</th>\n",
              "      <td>20640.000000</td>\n",
              "      <td>20640.000000</td>\n",
              "      <td>20640.000000</td>\n",
              "      <td>20640.000000</td>\n",
              "      <td>20433.000000</td>\n",
              "      <td>20640.000000</td>\n",
              "      <td>20640.000000</td>\n",
              "      <td>20640.000000</td>\n",
              "      <td>20640.000000</td>\n",
              "      <td>20640</td>\n",
              "    </tr>\n",
              "    <tr>\n",
              "      <th>unique</th>\n",
              "      <td>NaN</td>\n",
              "      <td>NaN</td>\n",
              "      <td>NaN</td>\n",
              "      <td>NaN</td>\n",
              "      <td>NaN</td>\n",
              "      <td>NaN</td>\n",
              "      <td>NaN</td>\n",
              "      <td>NaN</td>\n",
              "      <td>NaN</td>\n",
              "      <td>5</td>\n",
              "    </tr>\n",
              "    <tr>\n",
              "      <th>top</th>\n",
              "      <td>NaN</td>\n",
              "      <td>NaN</td>\n",
              "      <td>NaN</td>\n",
              "      <td>NaN</td>\n",
              "      <td>NaN</td>\n",
              "      <td>NaN</td>\n",
              "      <td>NaN</td>\n",
              "      <td>NaN</td>\n",
              "      <td>NaN</td>\n",
              "      <td>&lt;1H OCEAN</td>\n",
              "    </tr>\n",
              "    <tr>\n",
              "      <th>freq</th>\n",
              "      <td>NaN</td>\n",
              "      <td>NaN</td>\n",
              "      <td>NaN</td>\n",
              "      <td>NaN</td>\n",
              "      <td>NaN</td>\n",
              "      <td>NaN</td>\n",
              "      <td>NaN</td>\n",
              "      <td>NaN</td>\n",
              "      <td>NaN</td>\n",
              "      <td>9136</td>\n",
              "    </tr>\n",
              "    <tr>\n",
              "      <th>mean</th>\n",
              "      <td>-119.569704</td>\n",
              "      <td>35.631861</td>\n",
              "      <td>28.639486</td>\n",
              "      <td>2635.763081</td>\n",
              "      <td>537.870553</td>\n",
              "      <td>1425.476744</td>\n",
              "      <td>499.539680</td>\n",
              "      <td>3.870671</td>\n",
              "      <td>206855.816909</td>\n",
              "      <td>NaN</td>\n",
              "    </tr>\n",
              "    <tr>\n",
              "      <th>std</th>\n",
              "      <td>2.003532</td>\n",
              "      <td>2.135952</td>\n",
              "      <td>12.585558</td>\n",
              "      <td>2181.615252</td>\n",
              "      <td>421.385070</td>\n",
              "      <td>1132.462122</td>\n",
              "      <td>382.329753</td>\n",
              "      <td>1.899822</td>\n",
              "      <td>115395.615874</td>\n",
              "      <td>NaN</td>\n",
              "    </tr>\n",
              "    <tr>\n",
              "      <th>min</th>\n",
              "      <td>-124.350000</td>\n",
              "      <td>32.540000</td>\n",
              "      <td>1.000000</td>\n",
              "      <td>2.000000</td>\n",
              "      <td>1.000000</td>\n",
              "      <td>3.000000</td>\n",
              "      <td>1.000000</td>\n",
              "      <td>0.499900</td>\n",
              "      <td>14999.000000</td>\n",
              "      <td>NaN</td>\n",
              "    </tr>\n",
              "    <tr>\n",
              "      <th>25%</th>\n",
              "      <td>-121.800000</td>\n",
              "      <td>33.930000</td>\n",
              "      <td>18.000000</td>\n",
              "      <td>1447.750000</td>\n",
              "      <td>296.000000</td>\n",
              "      <td>787.000000</td>\n",
              "      <td>280.000000</td>\n",
              "      <td>2.563400</td>\n",
              "      <td>119600.000000</td>\n",
              "      <td>NaN</td>\n",
              "    </tr>\n",
              "    <tr>\n",
              "      <th>50%</th>\n",
              "      <td>-118.490000</td>\n",
              "      <td>34.260000</td>\n",
              "      <td>29.000000</td>\n",
              "      <td>2127.000000</td>\n",
              "      <td>435.000000</td>\n",
              "      <td>1166.000000</td>\n",
              "      <td>409.000000</td>\n",
              "      <td>3.534800</td>\n",
              "      <td>179700.000000</td>\n",
              "      <td>NaN</td>\n",
              "    </tr>\n",
              "    <tr>\n",
              "      <th>75%</th>\n",
              "      <td>-118.010000</td>\n",
              "      <td>37.710000</td>\n",
              "      <td>37.000000</td>\n",
              "      <td>3148.000000</td>\n",
              "      <td>647.000000</td>\n",
              "      <td>1725.000000</td>\n",
              "      <td>605.000000</td>\n",
              "      <td>4.743250</td>\n",
              "      <td>264725.000000</td>\n",
              "      <td>NaN</td>\n",
              "    </tr>\n",
              "    <tr>\n",
              "      <th>max</th>\n",
              "      <td>-114.310000</td>\n",
              "      <td>41.950000</td>\n",
              "      <td>52.000000</td>\n",
              "      <td>39320.000000</td>\n",
              "      <td>6445.000000</td>\n",
              "      <td>35682.000000</td>\n",
              "      <td>6082.000000</td>\n",
              "      <td>15.000100</td>\n",
              "      <td>500001.000000</td>\n",
              "      <td>NaN</td>\n",
              "    </tr>\n",
              "  </tbody>\n",
              "</table>\n",
              "</div>\n",
              "    <div class=\"colab-df-buttons\">\n",
              "\n",
              "  <div class=\"colab-df-container\">\n",
              "    <button class=\"colab-df-convert\" onclick=\"convertToInteractive('df-400b2c4c-6977-41d2-b243-f5b7764a25ee')\"\n",
              "            title=\"Convert this dataframe to an interactive table.\"\n",
              "            style=\"display:none;\">\n",
              "\n",
              "  <svg xmlns=\"http://www.w3.org/2000/svg\" height=\"24px\" viewBox=\"0 -960 960 960\">\n",
              "    <path d=\"M120-120v-720h720v720H120Zm60-500h600v-160H180v160Zm220 220h160v-160H400v160Zm0 220h160v-160H400v160ZM180-400h160v-160H180v160Zm440 0h160v-160H620v160ZM180-180h160v-160H180v160Zm440 0h160v-160H620v160Z\"/>\n",
              "  </svg>\n",
              "    </button>\n",
              "\n",
              "  <style>\n",
              "    .colab-df-container {\n",
              "      display:flex;\n",
              "      gap: 12px;\n",
              "    }\n",
              "\n",
              "    .colab-df-convert {\n",
              "      background-color: #E8F0FE;\n",
              "      border: none;\n",
              "      border-radius: 50%;\n",
              "      cursor: pointer;\n",
              "      display: none;\n",
              "      fill: #1967D2;\n",
              "      height: 32px;\n",
              "      padding: 0 0 0 0;\n",
              "      width: 32px;\n",
              "    }\n",
              "\n",
              "    .colab-df-convert:hover {\n",
              "      background-color: #E2EBFA;\n",
              "      box-shadow: 0px 1px 2px rgba(60, 64, 67, 0.3), 0px 1px 3px 1px rgba(60, 64, 67, 0.15);\n",
              "      fill: #174EA6;\n",
              "    }\n",
              "\n",
              "    .colab-df-buttons div {\n",
              "      margin-bottom: 4px;\n",
              "    }\n",
              "\n",
              "    [theme=dark] .colab-df-convert {\n",
              "      background-color: #3B4455;\n",
              "      fill: #D2E3FC;\n",
              "    }\n",
              "\n",
              "    [theme=dark] .colab-df-convert:hover {\n",
              "      background-color: #434B5C;\n",
              "      box-shadow: 0px 1px 3px 1px rgba(0, 0, 0, 0.15);\n",
              "      filter: drop-shadow(0px 1px 2px rgba(0, 0, 0, 0.3));\n",
              "      fill: #FFFFFF;\n",
              "    }\n",
              "  </style>\n",
              "\n",
              "    <script>\n",
              "      const buttonEl =\n",
              "        document.querySelector('#df-400b2c4c-6977-41d2-b243-f5b7764a25ee button.colab-df-convert');\n",
              "      buttonEl.style.display =\n",
              "        google.colab.kernel.accessAllowed ? 'block' : 'none';\n",
              "\n",
              "      async function convertToInteractive(key) {\n",
              "        const element = document.querySelector('#df-400b2c4c-6977-41d2-b243-f5b7764a25ee');\n",
              "        const dataTable =\n",
              "          await google.colab.kernel.invokeFunction('convertToInteractive',\n",
              "                                                    [key], {});\n",
              "        if (!dataTable) return;\n",
              "\n",
              "        const docLinkHtml = 'Like what you see? Visit the ' +\n",
              "          '<a target=\"_blank\" href=https://colab.research.google.com/notebooks/data_table.ipynb>data table notebook</a>'\n",
              "          + ' to learn more about interactive tables.';\n",
              "        element.innerHTML = '';\n",
              "        dataTable['output_type'] = 'display_data';\n",
              "        await google.colab.output.renderOutput(dataTable, element);\n",
              "        const docLink = document.createElement('div');\n",
              "        docLink.innerHTML = docLinkHtml;\n",
              "        element.appendChild(docLink);\n",
              "      }\n",
              "    </script>\n",
              "  </div>\n",
              "\n",
              "\n",
              "<div id=\"df-0e6b8958-65ba-405e-9510-b95bc8731a2e\">\n",
              "  <button class=\"colab-df-quickchart\" onclick=\"quickchart('df-0e6b8958-65ba-405e-9510-b95bc8731a2e')\"\n",
              "            title=\"Suggest charts.\"\n",
              "            style=\"display:none;\">\n",
              "\n",
              "<svg xmlns=\"http://www.w3.org/2000/svg\" height=\"24px\"viewBox=\"0 0 24 24\"\n",
              "     width=\"24px\">\n",
              "    <g>\n",
              "        <path d=\"M19 3H5c-1.1 0-2 .9-2 2v14c0 1.1.9 2 2 2h14c1.1 0 2-.9 2-2V5c0-1.1-.9-2-2-2zM9 17H7v-7h2v7zm4 0h-2V7h2v10zm4 0h-2v-4h2v4z\"/>\n",
              "    </g>\n",
              "</svg>\n",
              "  </button>\n",
              "\n",
              "<style>\n",
              "  .colab-df-quickchart {\n",
              "    background-color: #E8F0FE;\n",
              "    border: none;\n",
              "    border-radius: 50%;\n",
              "    cursor: pointer;\n",
              "    display: none;\n",
              "    fill: #1967D2;\n",
              "    height: 32px;\n",
              "    padding: 0 0 0 0;\n",
              "    width: 32px;\n",
              "  }\n",
              "\n",
              "  .colab-df-quickchart:hover {\n",
              "    background-color: #E2EBFA;\n",
              "    box-shadow: 0px 1px 2px rgba(60, 64, 67, 0.3), 0px 1px 3px 1px rgba(60, 64, 67, 0.15);\n",
              "    fill: #174EA6;\n",
              "  }\n",
              "\n",
              "  [theme=dark] .colab-df-quickchart {\n",
              "    background-color: #3B4455;\n",
              "    fill: #D2E3FC;\n",
              "  }\n",
              "\n",
              "  [theme=dark] .colab-df-quickchart:hover {\n",
              "    background-color: #434B5C;\n",
              "    box-shadow: 0px 1px 3px 1px rgba(0, 0, 0, 0.15);\n",
              "    filter: drop-shadow(0px 1px 2px rgba(0, 0, 0, 0.3));\n",
              "    fill: #FFFFFF;\n",
              "  }\n",
              "</style>\n",
              "\n",
              "  <script>\n",
              "    async function quickchart(key) {\n",
              "      const charts = await google.colab.kernel.invokeFunction(\n",
              "          'suggestCharts', [key], {});\n",
              "    }\n",
              "    (() => {\n",
              "      let quickchartButtonEl =\n",
              "        document.querySelector('#df-0e6b8958-65ba-405e-9510-b95bc8731a2e button');\n",
              "      quickchartButtonEl.style.display =\n",
              "        google.colab.kernel.accessAllowed ? 'block' : 'none';\n",
              "    })();\n",
              "  </script>\n",
              "</div>\n",
              "    </div>\n",
              "  </div>\n"
            ]
          },
          "metadata": {},
          "execution_count": 15
        }
      ]
    },
    {
      "cell_type": "markdown",
      "source": [
        "Feature Categorization:\n"
      ],
      "metadata": {
        "id": "t8nF7tyoilXd"
      }
    },
    {
      "cell_type": "markdown",
      "source": [
        "Discrete Features = housing_median_age #Represents the age of houses."
      ],
      "metadata": {
        "id": "-U8mMqC8KBA6"
      }
    },
    {
      "cell_type": "markdown",
      "source": [
        "Nominal Features = ocean_proximity column  # Categorical features with no ranking"
      ],
      "metadata": {
        "id": "duegyfOvKvqR"
      }
    },
    {
      "cell_type": "markdown",
      "source": [
        "Continuous Features = longitude,latitude,population,households,median_income,median_house_value,total_rooms,total_bedrooms"
      ],
      "metadata": {
        "id": "JBvBV2NmLCBY"
      }
    },
    {
      "cell_type": "code",
      "source": [
        "#sns.pairplot(df)"
      ],
      "metadata": {
        "id": "FqkzfWkRtQnX"
      },
      "execution_count": null,
      "outputs": []
    },
    {
      "cell_type": "code",
      "source": [
        "df[['longitude', 'latitude', 'housing_median_age', 'total_rooms',\n",
        "'total_bedrooms', 'population', 'households', 'median_income',\n",
        "           'median_house_value']].hist(bins=20, figsize=(15, 12),facecolor=\"cyan\" ,edgecolor='black',grid = False)\n",
        "plt.tight_layout()  # To ensure proper spacing\n",
        "#plt.show()\n",
        "sns.countplot(x = df[\"ocean_proximity\"])\n",
        "\n",
        "plt.show()"
      ],
      "metadata": {
        "colab": {
          "base_uri": "https://localhost:8080/",
          "height": 934
        },
        "id": "t1pVFDJmpeO1",
        "outputId": "71edfdc3-5ed6-4305-aa09-dbc5c3b350fb"
      },
      "execution_count": null,
      "outputs": [
        {
          "output_type": "display_data",
          "data": {
            "text/plain": [
              "<Figure size 1500x1200 with 9 Axes>"
            ],
            "image/png": "[encoded data removed]"
          },
          "metadata": {}
        }
      ]
    },
    {
      "cell_type": "markdown",
      "source": [
        "1. What is the average median income of the data set and check the distribution of data using appropriate plots. Please explain the distribution of the plot."
      ],
      "metadata": {
        "id": "dJefd8jyiqUf"
      }
    },
    {
      "cell_type": "code",
      "source": [
        "df[\"median_income\"].mean()    # mean() to calculate mean/average"
      ],
      "metadata": {
        "colab": {
          "base_uri": "https://localhost:8080/"
        },
        "id": "kFD1dlMEh-Iv",
        "outputId": "de366567-891d-4367-c1bc-2a3b020e7e58"
      },
      "execution_count": null,
      "outputs": [
        {
          "output_type": "execute_result",
          "data": {
            "text/plain": [
              "3.8706710029069766"
            ]
          },
          "metadata": {},
          "execution_count": 11
        }
      ]
    },
    {
      "cell_type": "code",
      "source": [
        "plt.hist(df[\"median_income\"],bins = 20,facecolor=\"cyan\" ,edgecolor='black',label=\"median_income\") #histogram plot to check the distribution\n",
        "plt.xlabel(\"median_income\")\n",
        "plt.ylabel(\"Frequency\")\n",
        "plt.title(\"Mean of median_income\") #title to the plot\n",
        "plt.legend(loc=\"upper right\")\n",
        "plt.show()"
      ],
      "metadata": {
        "colab": {
          "base_uri": "https://localhost:8080/",
          "height": 472
        },
        "id": "anazJ1VJxM-U",
        "outputId": "fb75f458-d680-4e3a-c0ed-b85e4aa89592"
      },
      "execution_count": null,
      "outputs": [
        {
          "output_type": "display_data",
          "data": {
            "text/plain": [
              "<Figure size 640x480 with 1 Axes>"
            ],
            "image/png": "[encoded data removed]"
          },
          "metadata": {}
        }
      ]
    },
    {
      "cell_type": "markdown",
      "source": [
        "The distribution of the \"median_income\" plot"
      ],
      "metadata": {
        "id": "1k3UQ_IYjEBo"
      }
    },
    {
      "cell_type": "markdown",
      "source": [
        "Shape: The distribution of median income is skewed to Right.\n",
        "\n",
        "peakedness : unimodal- distribution has one peak.\n",
        "\n",
        "Center/median: The data seem to be centered around 3.8.\n",
        "\n",
        "Spread: The data range from minimum 0 to maximum 15.\n",
        "\n",
        "Outliers: There is one probable outlier to the far right near 14\n",
        "\n",
        "\n",
        "\n"
      ],
      "metadata": {
        "id": "sqMe-MfEjJ19"
      }
    },
    {
      "cell_type": "markdown",
      "source": [
        "If we look at the median income histogram more closely most of the median income values are clustered around 2 to 5 The median income is a distribution with a long tail. It means that the salary of people is more or less normally distributed but there is some people getting a high salary"
      ],
      "metadata": {
        "id": "XPs6U8eSjN_6"
      }
    },
    {
      "cell_type": "markdown",
      "source": [
        "2. Draw an appropriate plot to see the distribution of housing_median_age and explain your observations."
      ],
      "metadata": {
        "id": "CEqScbeRkPt7"
      }
    },
    {
      "cell_type": "code",
      "source": [
        "\n",
        "plt.hist(df[\"housing_median_age\"],facecolor=\"pink\",edgecolor=\"red\",bins=25,label=\"median_age\")\n",
        "plt.xlabel(\"housing_median_age\")   # nameing of x-axis\n",
        "plt.title(\"median age of Housing\")  #title\n",
        "plt.legend(loc=\"upper left\")  #labelling on upper left location\n",
        "plt.show()"
      ],
      "metadata": {
        "colab": {
          "base_uri": "https://localhost:8080/",
          "height": 472
        },
        "id": "4xCQ4jA1kX8i",
        "outputId": "104e61af-dd8a-4dcb-d579-46fe2c2da7ca"
      },
      "execution_count": null,
      "outputs": [
        {
          "output_type": "display_data",
          "data": {
            "text/plain": [
              "<Figure size 640x480 with 1 Axes>"
            ],
            "image/png": "[encoded data removed]"
          },
          "metadata": {}
        }
      ]
    },
    {
      "cell_type": "markdown",
      "source": [
        "the distribution of housing_median_age:\n",
        "\n",
        "Shape: the distribution is more or less uniform ,we can call it is aproximately symmetric , as in the histogram below, the distribution forms an approximate mirror image with respect to the center of the distribution.\n",
        "\n",
        "Center: The data seem to be centered around 28.63.\n",
        "\n",
        "Spread: The data range from minimum 1 to maximum 52, so the approximate range equals 51\n",
        "\n",
        "Outliers: There is no probable outlier\n",
        "\n",
        "peakedness (modality) — The target distribution has long tail as well."
      ],
      "metadata": {
        "id": "ib05iMJjkQ0R"
      }
    },
    {
      "cell_type": "markdown",
      "source": [
        "3. Show with the help of visualization, how median_income and median_house_values are related?"
      ],
      "metadata": {
        "id": "-IQvON1SkaWT"
      }
    },
    {
      "cell_type": "code",
      "source": [
        "#df[\"median_income\"].corr(df[\"median_house_value\"])"
      ],
      "metadata": {
        "colab": {
          "base_uri": "https://localhost:8080/"
        },
        "id": "BNGbN21YcqQU",
        "outputId": "3665dc20-5b9f-4621-a672-2e94e8c6e23c"
      },
      "execution_count": null,
      "outputs": [
        {
          "output_type": "execute_result",
          "data": {
            "text/plain": [
              "0.688075207958548"
            ]
          },
          "metadata": {},
          "execution_count": 35
        }
      ]
    },
    {
      "cell_type": "code",
      "source": [
        "plt.scatter(df[\"median_income\"],df[\"median_house_value\"],alpha =0.3)#scatter plot for relation between income and house value\n",
        "plt.xlabel('median_income')#name of x axis\n",
        "plt.ylabel('median_house_value')#name of y axis\n",
        "plt.title(\"median_income vs median_house_values\")#title\n",
        "\n",
        "plt.show()    #show the plot"
      ],
      "metadata": {
        "colab": {
          "base_uri": "https://localhost:8080/",
          "height": 472
        },
        "id": "Ughik3tTkd-L",
        "outputId": "41a01a7e-be6d-42f0-ad1e-5510e5e6116b"
      },
      "execution_count": null,
      "outputs": [
        {
          "output_type": "display_data",
          "data": {
            "text/plain": [
              "<Figure size 640x480 with 1 Axes>"
            ],
            "image/png": "[encoded data removed]"
          },
          "metadata": {}
        }
      ]
    },
    {
      "cell_type": "markdown",
      "source": [
        "A scatter plot will show the relationship between  median_income and median_house_values.\n",
        "\n",
        "Observation: we can say that relation between median_income and the median_house_value  is  positive linear relationship"
      ],
      "metadata": {
        "id": "F0RJxxr5kbPa"
      }
    },
    {
      "cell_type": "markdown",
      "source": [
        "4. Create a data set by deleting the corresponding examples from the data set for which total_bedrooms are not available."
      ],
      "metadata": {
        "id": "LIquujDYkhBJ"
      }
    },
    {
      "cell_type": "code",
      "source": [
        "df.isnull().sum() #Handle missing values :207 null values in Column total_bedrooms"
      ],
      "metadata": {
        "colab": {
          "base_uri": "https://localhost:8080/"
        },
        "id": "T97D9y71klkT",
        "outputId": "6bc765fb-f8af-4539-f2fd-546a8f0dff80"
      },
      "execution_count": null,
      "outputs": [
        {
          "output_type": "execute_result",
          "data": {
            "text/plain": [
              "longitude               0\n",
              "latitude                0\n",
              "housing_median_age      0\n",
              "total_rooms             0\n",
              "total_bedrooms        207\n",
              "population              0\n",
              "households              0\n",
              "median_income           0\n",
              "median_house_value      0\n",
              "ocean_proximity         0\n",
              "dtype: int64"
            ]
          },
          "metadata": {},
          "execution_count": 38
        }
      ]
    },
    {
      "cell_type": "code",
      "source": [
        "df1 = df\n",
        "df1.columns\n",
        "df2=df1.dropna(subset= [\"total_bedrooms\"])   #dropna() method removes the rows that contains NULL value\n",
        "df2.isnull().sum()"
      ],
      "metadata": {
        "colab": {
          "base_uri": "https://localhost:8080/"
        },
        "id": "cWJZSEjxkqGr",
        "outputId": "5ed7f2bc-6fc1-4dbc-848f-01ee35fd1c2d"
      },
      "execution_count": null,
      "outputs": [
        {
          "output_type": "execute_result",
          "data": {
            "text/plain": [
              "longitude             0\n",
              "latitude              0\n",
              "housing_median_age    0\n",
              "total_rooms           0\n",
              "total_bedrooms        0\n",
              "population            0\n",
              "households            0\n",
              "median_income         0\n",
              "median_house_value    0\n",
              "ocean_proximity       0\n",
              "dtype: int64"
            ]
          },
          "metadata": {},
          "execution_count": 50
        }
      ]
    },
    {
      "cell_type": "code",
      "source": [
        "df2.head()"
      ],
      "metadata": {
        "colab": {
          "base_uri": "https://localhost:8080/",
          "height": 226
        },
        "id": "Wi2Zfn6OgJAQ",
        "outputId": "a1cd651a-bcbf-4a82-c61d-655ad8389598"
      },
      "execution_count": null,
      "outputs": [
        {
          "output_type": "execute_result",
          "data": {
            "text/plain": [
              "   longitude  latitude  housing_median_age  total_rooms  total_bedrooms  \\\n",
              "0    -122.23     37.88                  41          880           129.0   \n",
              "1    -122.22     37.86                  21         7099          1106.0   \n",
              "2    -122.24     37.85                  52         1467           190.0   \n",
              "3    -122.25     37.85                  52         1274           235.0   \n",
              "4    -122.25     37.85                  52         1627           280.0   \n",
              "\n",
              "   population  households  median_income  median_house_value ocean_proximity  \n",
              "0         322         126         8.3252              452600        NEAR BAY  \n",
              "1        2401        1138         8.3014              358500        NEAR BAY  \n",
              "2         496         177         7.2574              352100        NEAR BAY  \n",
              "3         558         219         5.6431              341300        NEAR BAY  \n",
              "4         565         259         3.8462              342200        NEAR BAY  "
            ],
            "text/html": [
              "\n",
              "  <div id=\"df-3d440f74-93f3-4daa-8fb9-561dbb1f6c84\" class=\"colab-df-container\">\n",
              "    <div>\n",
              "<style scoped>\n",
              "    .dataframe tbody tr th:only-of-type {\n",
              "        vertical-align: middle;\n",
              "    }\n",
              "\n",
              "    .dataframe tbody tr th {\n",
              "        vertical-align: top;\n",
              "    }\n",
              "\n",
              "    .dataframe thead th {\n",
              "        text-align: right;\n",
              "    }\n",
              "</style>\n",
              "<table border=\"1\" class=\"dataframe\">\n",
              "  <thead>\n",
              "    <tr style=\"text-align: right;\">\n",
              "      <th></th>\n",
              "      <th>longitude</th>\n",
              "      <th>latitude</th>\n",
              "      <th>housing_median_age</th>\n",
              "      <th>total_rooms</th>\n",
              "      <th>total_bedrooms</th>\n",
              "      <th>population</th>\n",
              "      <th>households</th>\n",
              "      <th>median_income</th>\n",
              "      <th>median_house_value</th>\n",
              "      <th>ocean_proximity</th>\n",
              "    </tr>\n",
              "  </thead>\n",
              "  <tbody>\n",
              "    <tr>\n",
              "      <th>0</th>\n",
              "      <td>-122.23</td>\n",
              "      <td>37.88</td>\n",
              "      <td>41</td>\n",
              "      <td>880</td>\n",
              "      <td>129.0</td>\n",
              "      <td>322</td>\n",
              "      <td>126</td>\n",
              "      <td>8.3252</td>\n",
              "      <td>452600</td>\n",
              "      <td>NEAR BAY</td>\n",
              "    </tr>\n",
              "    <tr>\n",
              "      <th>1</th>\n",
              "      <td>-122.22</td>\n",
              "      <td>37.86</td>\n",
              "      <td>21</td>\n",
              "      <td>7099</td>\n",
              "      <td>1106.0</td>\n",
              "      <td>2401</td>\n",
              "      <td>1138</td>\n",
              "      <td>8.3014</td>\n",
              "      <td>358500</td>\n",
              "      <td>NEAR BAY</td>\n",
              "    </tr>\n",
              "    <tr>\n",
              "      <th>2</th>\n",
              "      <td>-122.24</td>\n",
              "      <td>37.85</td>\n",
              "      <td>52</td>\n",
              "      <td>1467</td>\n",
              "      <td>190.0</td>\n",
              "      <td>496</td>\n",
              "      <td>177</td>\n",
              "      <td>7.2574</td>\n",
              "      <td>352100</td>\n",
              "      <td>NEAR BAY</td>\n",
              "    </tr>\n",
              "    <tr>\n",
              "      <th>3</th>\n",
              "      <td>-122.25</td>\n",
              "      <td>37.85</td>\n",
              "      <td>52</td>\n",
              "      <td>1274</td>\n",
              "      <td>235.0</td>\n",
              "      <td>558</td>\n",
              "      <td>219</td>\n",
              "      <td>5.6431</td>\n",
              "      <td>341300</td>\n",
              "      <td>NEAR BAY</td>\n",
              "    </tr>\n",
              "    <tr>\n",
              "      <th>4</th>\n",
              "      <td>-122.25</td>\n",
              "      <td>37.85</td>\n",
              "      <td>52</td>\n",
              "      <td>1627</td>\n",
              "      <td>280.0</td>\n",
              "      <td>565</td>\n",
              "      <td>259</td>\n",
              "      <td>3.8462</td>\n",
              "      <td>342200</td>\n",
              "      <td>NEAR BAY</td>\n",
              "    </tr>\n",
              "  </tbody>\n",
              "</table>\n",
              "</div>\n",
              "    <div class=\"colab-df-buttons\">\n",
              "\n",
              "  <div class=\"colab-df-container\">\n",
              "    <button class=\"colab-df-convert\" onclick=\"convertToInteractive('df-3d440f74-93f3-4daa-8fb9-561dbb1f6c84')\"\n",
              "            title=\"Convert this dataframe to an interactive table.\"\n",
              "            style=\"display:none;\">\n",
              "\n",
              "  <svg xmlns=\"http://www.w3.org/2000/svg\" height=\"24px\" viewBox=\"0 -960 960 960\">\n",
              "    <path d=\"M120-120v-720h720v720H120Zm60-500h600v-160H180v160Zm220 220h160v-160H400v160Zm0 220h160v-160H400v160ZM180-400h160v-160H180v160Zm440 0h160v-160H620v160ZM180-180h160v-160H180v160Zm440 0h160v-160H620v160Z\"/>\n",
              "  </svg>\n",
              "    </button>\n",
              "\n",
              "  <style>\n",
              "    .colab-df-container {\n",
              "      display:flex;\n",
              "      gap: 12px;\n",
              "    }\n",
              "\n",
              "    .colab-df-convert {\n",
              "      background-color: #E8F0FE;\n",
              "      border: none;\n",
              "      border-radius: 50%;\n",
              "      cursor: pointer;\n",
              "      display: none;\n",
              "      fill: #1967D2;\n",
              "      height: 32px;\n",
              "      padding: 0 0 0 0;\n",
              "      width: 32px;\n",
              "    }\n",
              "\n",
              "    .colab-df-convert:hover {\n",
              "      background-color: #E2EBFA;\n",
              "      box-shadow: 0px 1px 2px rgba(60, 64, 67, 0.3), 0px 1px 3px 1px rgba(60, 64, 67, 0.15);\n",
              "      fill: #174EA6;\n",
              "    }\n",
              "\n",
              "    .colab-df-buttons div {\n",
              "      margin-bottom: 4px;\n",
              "    }\n",
              "\n",
              "    [theme=dark] .colab-df-convert {\n",
              "      background-color: #3B4455;\n",
              "      fill: #D2E3FC;\n",
              "    }\n",
              "\n",
              "    [theme=dark] .colab-df-convert:hover {\n",
              "      background-color: #434B5C;\n",
              "      box-shadow: 0px 1px 3px 1px rgba(0, 0, 0, 0.15);\n",
              "      filter: drop-shadow(0px 1px 2px rgba(0, 0, 0, 0.3));\n",
              "      fill: #FFFFFF;\n",
              "    }\n",
              "  </style>\n",
              "\n",
              "    <script>\n",
              "      const buttonEl =\n",
              "        document.querySelector('#df-3d440f74-93f3-4daa-8fb9-561dbb1f6c84 button.colab-df-convert');\n",
              "      buttonEl.style.display =\n",
              "        google.colab.kernel.accessAllowed ? 'block' : 'none';\n",
              "\n",
              "      async function convertToInteractive(key) {\n",
              "        const element = document.querySelector('#df-3d440f74-93f3-4daa-8fb9-561dbb1f6c84');\n",
              "        const dataTable =\n",
              "          await google.colab.kernel.invokeFunction('convertToInteractive',\n",
              "                                                    [key], {});\n",
              "        if (!dataTable) return;\n",
              "\n",
              "        const docLinkHtml = 'Like what you see? Visit the ' +\n",
              "          '<a target=\"_blank\" href=https://colab.research.google.com/notebooks/data_table.ipynb>data table notebook</a>'\n",
              "          + ' to learn more about interactive tables.';\n",
              "        element.innerHTML = '';\n",
              "        dataTable['output_type'] = 'display_data';\n",
              "        await google.colab.output.renderOutput(dataTable, element);\n",
              "        const docLink = document.createElement('div');\n",
              "        docLink.innerHTML = docLinkHtml;\n",
              "        element.appendChild(docLink);\n",
              "      }\n",
              "    </script>\n",
              "  </div>\n",
              "\n",
              "\n",
              "<div id=\"df-cf3f6653-5070-4a6e-be8c-5b233a9281a6\">\n",
              "  <button class=\"colab-df-quickchart\" onclick=\"quickchart('df-cf3f6653-5070-4a6e-be8c-5b233a9281a6')\"\n",
              "            title=\"Suggest charts.\"\n",
              "            style=\"display:none;\">\n",
              "\n",
              "<svg xmlns=\"http://www.w3.org/2000/svg\" height=\"24px\"viewBox=\"0 0 24 24\"\n",
              "     width=\"24px\">\n",
              "    <g>\n",
              "        <path d=\"M19 3H5c-1.1 0-2 .9-2 2v14c0 1.1.9 2 2 2h14c1.1 0 2-.9 2-2V5c0-1.1-.9-2-2-2zM9 17H7v-7h2v7zm4 0h-2V7h2v10zm4 0h-2v-4h2v4z\"/>\n",
              "    </g>\n",
              "</svg>\n",
              "  </button>\n",
              "\n",
              "<style>\n",
              "  .colab-df-quickchart {\n",
              "    background-color: #E8F0FE;\n",
              "    border: none;\n",
              "    border-radius: 50%;\n",
              "    cursor: pointer;\n",
              "    display: none;\n",
              "    fill: #1967D2;\n",
              "    height: 32px;\n",
              "    padding: 0 0 0 0;\n",
              "    width: 32px;\n",
              "  }\n",
              "\n",
              "  .colab-df-quickchart:hover {\n",
              "    background-color: #E2EBFA;\n",
              "    box-shadow: 0px 1px 2px rgba(60, 64, 67, 0.3), 0px 1px 3px 1px rgba(60, 64, 67, 0.15);\n",
              "    fill: #174EA6;\n",
              "  }\n",
              "\n",
              "  [theme=dark] .colab-df-quickchart {\n",
              "    background-color: #3B4455;\n",
              "    fill: #D2E3FC;\n",
              "  }\n",
              "\n",
              "  [theme=dark] .colab-df-quickchart:hover {\n",
              "    background-color: #434B5C;\n",
              "    box-shadow: 0px 1px 3px 1px rgba(0, 0, 0, 0.15);\n",
              "    filter: drop-shadow(0px 1px 2px rgba(0, 0, 0, 0.3));\n",
              "    fill: #FFFFFF;\n",
              "  }\n",
              "</style>\n",
              "\n",
              "  <script>\n",
              "    async function quickchart(key) {\n",
              "      const charts = await google.colab.kernel.invokeFunction(\n",
              "          'suggestCharts', [key], {});\n",
              "    }\n",
              "    (() => {\n",
              "      let quickchartButtonEl =\n",
              "        document.querySelector('#df-cf3f6653-5070-4a6e-be8c-5b233a9281a6 button');\n",
              "      quickchartButtonEl.style.display =\n",
              "        google.colab.kernel.accessAllowed ? 'block' : 'none';\n",
              "    })();\n",
              "  </script>\n",
              "</div>\n",
              "    </div>\n",
              "  </div>\n"
            ]
          },
          "metadata": {},
          "execution_count": 51
        }
      ]
    },
    {
      "cell_type": "markdown",
      "source": [
        "5. Create a data set by filling the missing data with the mean value of the total_bedrooms in the original data set."
      ],
      "metadata": {
        "id": "dpxP4vNekjd1"
      }
    },
    {
      "cell_type": "code",
      "source": [
        "bed_mean = df[\"total_bedrooms\"].mean()#calculate and storing the total_bedrooms mean to a variable \"bed_mean\"\n",
        "bed_mean"
      ],
      "metadata": {
        "colab": {
          "base_uri": "https://localhost:8080/"
        },
        "id": "QWS3X3rAkxFQ",
        "outputId": "a9585853-c4e1-42fa-b039-ac48c4790c42"
      },
      "execution_count": null,
      "outputs": [
        {
          "output_type": "execute_result",
          "data": {
            "text/plain": [
              "537.8705525375618"
            ]
          },
          "metadata": {},
          "execution_count": 59
        }
      ]
    },
    {
      "cell_type": "code",
      "source": [
        "df[\"total_bedrooms\"].fillna(bed_mean,inplace=True)#filling null values with mean of totalbedrooms inplace=true means changes are applied to original df\n",
        "\n",
        "df.isnull().sum()"
      ],
      "metadata": {
        "colab": {
          "base_uri": "https://localhost:8080/"
        },
        "id": "Mya0Cnmxk1uK",
        "outputId": "65226657-5056-45e2-ac74-5cb1a221ab14"
      },
      "execution_count": null,
      "outputs": [
        {
          "output_type": "execute_result",
          "data": {
            "text/plain": [
              "longitude             0\n",
              "latitude              0\n",
              "housing_median_age    0\n",
              "total_rooms           0\n",
              "total_bedrooms        0\n",
              "population            0\n",
              "households            0\n",
              "median_income         0\n",
              "median_house_value    0\n",
              "ocean_proximity       0\n",
              "dtype: int64"
            ]
          },
          "metadata": {},
          "execution_count": 73
        }
      ]
    },
    {
      "cell_type": "markdown",
      "source": [
        "6. Write a programming construct (create a user defined function) to calculate the median value of the data set wherever required."
      ],
      "metadata": {
        "id": "uusNKV_skwQj"
      }
    },
    {
      "cell_type": "code",
      "source": [
        "def Median(a, n):\n",
        "  a.sort()             # First I sort the array\n",
        "  if n % 2 == 0:       # Check for even case\n",
        "    m1 = a[n//2]\n",
        "    m2 = a[n//2 - 1]\n",
        "    return (m1 + m2)/2  #if return part\n",
        "  return a[n//2]        #else return part\n"
      ],
      "metadata": {
        "id": "gmw7d0CTk9jD"
      },
      "execution_count": null,
      "outputs": []
    },
    {
      "cell_type": "code",
      "source": [
        "a=df['median_income'].tolist() #median income column to list and passing it to function\n",
        "n=len(a)\n",
        "Median(a,n)"
      ],
      "metadata": {
        "colab": {
          "base_uri": "https://localhost:8080/"
        },
        "id": "K7PVlMuslBn8",
        "outputId": "3040567a-d36b-415f-8850-56c62bc7ae64"
      },
      "execution_count": null,
      "outputs": [
        {
          "output_type": "execute_result",
          "data": {
            "text/plain": [
              "3.5347999999999997"
            ]
          },
          "metadata": {},
          "execution_count": 94
        }
      ]
    },
    {
      "cell_type": "code",
      "source": [
        "df['median_income'].median()   #to check by using median()"
      ],
      "metadata": {
        "colab": {
          "base_uri": "https://localhost:8080/"
        },
        "id": "SNXCtWT3lD06",
        "outputId": "236e7472-2156-4947-99cf-c30d52484533"
      },
      "execution_count": null,
      "outputs": [
        {
          "output_type": "execute_result",
          "data": {
            "text/plain": [
              "3.5347999999999997"
            ]
          },
          "metadata": {},
          "execution_count": 77
        }
      ]
    },
    {
      "cell_type": "markdown",
      "source": [
        "7. Plot latitude versus longitude and explain your observations."
      ],
      "metadata": {
        "id": "N0_noB3nlGHr"
      }
    },
    {
      "cell_type": "code",
      "source": [
        "#df[\"latitude\"].corr(df[\"longitude\"])"
      ],
      "metadata": {
        "colab": {
          "base_uri": "https://localhost:8080/"
        },
        "id": "VOfw48ndssz7",
        "outputId": "1904026d-e653-4700-abef-07cf03d499e0"
      },
      "execution_count": null,
      "outputs": [
        {
          "output_type": "execute_result",
          "data": {
            "text/plain": [
              "-0.924664433915041"
            ]
          },
          "metadata": {},
          "execution_count": 88
        }
      ]
    },
    {
      "cell_type": "code",
      "source": [
        "plt.scatter(df[\"latitude\"],df[\"longitude\"] ,alpha =0.5) #selected scatter plot to draw the relationship between latitude and longitude\n",
        "plt.xlabel(\"longitude\")     #name of x axis\n",
        "plt.ylabel(\"latitude\")   #name of y axis\n",
        "plt.title(\" latitude vs longitude\") #title\n",
        "plt.show()  #show the plot"
      ],
      "metadata": {
        "colab": {
          "base_uri": "https://localhost:8080/",
          "height": 472
        },
        "id": "YCwjBlp3lJAN",
        "outputId": "35ad7072-062e-4b76-c965-9d70c322e7b0"
      },
      "execution_count": null,
      "outputs": [
        {
          "output_type": "display_data",
          "data": {
            "text/plain": [
              "<Figure size 640x480 with 1 Axes>"
            ],
            "image/png": "[encoded data removed]"
          },
          "metadata": {}
        }
      ]
    },
    {
      "cell_type": "markdown",
      "source": [
        "Observation\n",
        "\n",
        "we can see the relation between latitude vs longitude is strong negative and linear relationship"
      ],
      "metadata": {
        "id": "G3aRmpoklGxq"
      }
    },
    {
      "cell_type": "markdown",
      "source": [
        "8. Create a data set for which the ocean_proximity is ‘Near ocean’."
      ],
      "metadata": {
        "id": "NSd-eu8OlNh9"
      }
    },
    {
      "cell_type": "code",
      "source": [
        "\n",
        "da=df[df['ocean_proximity']=='NEAR OCEAN']  # creating a new data set where  ocean_proximity  is ‘Near ocean’\n",
        "da"
      ],
      "metadata": {
        "colab": {
          "base_uri": "https://localhost:8080/",
          "height": 443
        },
        "id": "sHSAIN_zlONj",
        "outputId": "731da012-1cef-42a5-dea7-cc14653a8014"
      },
      "execution_count": null,
      "outputs": [
        {
          "output_type": "execute_result",
          "data": {
            "text/plain": [
              "       longitude  latitude  housing_median_age  total_rooms  total_bedrooms  \\\n",
              "1850     -124.17     41.80                  16         2739           480.0   \n",
              "1851     -124.30     41.80                  19         2672           552.0   \n",
              "1852     -124.23     41.75                  11         3159           616.0   \n",
              "1853     -124.21     41.77                  17         3461           722.0   \n",
              "1854     -124.19     41.78                  15         3140           714.0   \n",
              "...          ...       ...                 ...          ...             ...   \n",
              "20380    -118.83     34.14                  16         1316           194.0   \n",
              "20381    -118.83     34.14                  16         1956           312.0   \n",
              "20423    -119.00     34.08                  17         1822           438.0   \n",
              "20424    -118.75     34.18                   4        16704          2704.0   \n",
              "20425    -118.75     34.17                  18         6217           858.0   \n",
              "\n",
              "       population  households  median_income  median_house_value  \\\n",
              "1850         1259         436         3.7557              109400   \n",
              "1851         1298         478         1.9797               85800   \n",
              "1852         1343         479         2.4805               73200   \n",
              "1853         1947         647         2.5795               68400   \n",
              "1854         1645         640         1.6654               74600   \n",
              "...           ...         ...            ...                 ...   \n",
              "20380         450         173        10.1597              500001   \n",
              "20381         671         319         6.4001              321800   \n",
              "20423         578         291         5.4346              428600   \n",
              "20424        6187        2207         6.6122              357600   \n",
              "20425        2703         834         6.8075              325900   \n",
              "\n",
              "      ocean_proximity  \n",
              "1850       NEAR OCEAN  \n",
              "1851       NEAR OCEAN  \n",
              "1852       NEAR OCEAN  \n",
              "1853       NEAR OCEAN  \n",
              "1854       NEAR OCEAN  \n",
              "...               ...  \n",
              "20380      NEAR OCEAN  \n",
              "20381      NEAR OCEAN  \n",
              "20423      NEAR OCEAN  \n",
              "20424      NEAR OCEAN  \n",
              "20425      NEAR OCEAN  \n",
              "\n",
              "[2658 rows x 10 columns]"
            ],
            "text/html": [
              "\n",
              "  <div id=\"df-52ce8a1d-e977-4ec3-8eb1-f6c2a17f8a88\" class=\"colab-df-container\">\n",
              "    <div>\n",
              "<style scoped>\n",
              "    .dataframe tbody tr th:only-of-type {\n",
              "        vertical-align: middle;\n",
              "    }\n",
              "\n",
              "    .dataframe tbody tr th {\n",
              "        vertical-align: top;\n",
              "    }\n",
              "\n",
              "    .dataframe thead th {\n",
              "        text-align: right;\n",
              "    }\n",
              "</style>\n",
              "<table border=\"1\" class=\"dataframe\">\n",
              "  <thead>\n",
              "    <tr style=\"text-align: right;\">\n",
              "      <th></th>\n",
              "      <th>longitude</th>\n",
              "      <th>latitude</th>\n",
              "      <th>housing_median_age</th>\n",
              "      <th>total_rooms</th>\n",
              "      <th>total_bedrooms</th>\n",
              "      <th>population</th>\n",
              "      <th>households</th>\n",
              "      <th>median_income</th>\n",
              "      <th>median_house_value</th>\n",
              "      <th>ocean_proximity</th>\n",
              "    </tr>\n",
              "  </thead>\n",
              "  <tbody>\n",
              "    <tr>\n",
              "      <th>1850</th>\n",
              "      <td>-124.17</td>\n",
              "      <td>41.80</td>\n",
              "      <td>16</td>\n",
              "      <td>2739</td>\n",
              "      <td>480.0</td>\n",
              "      <td>1259</td>\n",
              "      <td>436</td>\n",
              "      <td>3.7557</td>\n",
              "      <td>109400</td>\n",
              "      <td>NEAR OCEAN</td>\n",
              "    </tr>\n",
              "    <tr>\n",
              "      <th>1851</th>\n",
              "      <td>-124.30</td>\n",
              "      <td>41.80</td>\n",
              "      <td>19</td>\n",
              "      <td>2672</td>\n",
              "      <td>552.0</td>\n",
              "      <td>1298</td>\n",
              "      <td>478</td>\n",
              "      <td>1.9797</td>\n",
              "      <td>85800</td>\n",
              "      <td>NEAR OCEAN</td>\n",
              "    </tr>\n",
              "    <tr>\n",
              "      <th>1852</th>\n",
              "      <td>-124.23</td>\n",
              "      <td>41.75</td>\n",
              "      <td>11</td>\n",
              "      <td>3159</td>\n",
              "      <td>616.0</td>\n",
              "      <td>1343</td>\n",
              "      <td>479</td>\n",
              "      <td>2.4805</td>\n",
              "      <td>73200</td>\n",
              "      <td>NEAR OCEAN</td>\n",
              "    </tr>\n",
              "    <tr>\n",
              "      <th>1853</th>\n",
              "      <td>-124.21</td>\n",
              "      <td>41.77</td>\n",
              "      <td>17</td>\n",
              "      <td>3461</td>\n",
              "      <td>722.0</td>\n",
              "      <td>1947</td>\n",
              "      <td>647</td>\n",
              "      <td>2.5795</td>\n",
              "      <td>68400</td>\n",
              "      <td>NEAR OCEAN</td>\n",
              "    </tr>\n",
              "    <tr>\n",
              "      <th>1854</th>\n",
              "      <td>-124.19</td>\n",
              "      <td>41.78</td>\n",
              "      <td>15</td>\n",
              "      <td>3140</td>\n",
              "      <td>714.0</td>\n",
              "      <td>1645</td>\n",
              "      <td>640</td>\n",
              "      <td>1.6654</td>\n",
              "      <td>74600</td>\n",
              "      <td>NEAR OCEAN</td>\n",
              "    </tr>\n",
              "    <tr>\n",
              "      <th>...</th>\n",
              "      <td>...</td>\n",
              "      <td>...</td>\n",
              "      <td>...</td>\n",
              "      <td>...</td>\n",
              "      <td>...</td>\n",
              "      <td>...</td>\n",
              "      <td>...</td>\n",
              "      <td>...</td>\n",
              "      <td>...</td>\n",
              "      <td>...</td>\n",
              "    </tr>\n",
              "    <tr>\n",
              "      <th>20380</th>\n",
              "      <td>-118.83</td>\n",
              "      <td>34.14</td>\n",
              "      <td>16</td>\n",
              "      <td>1316</td>\n",
              "      <td>194.0</td>\n",
              "      <td>450</td>\n",
              "      <td>173</td>\n",
              "      <td>10.1597</td>\n",
              "      <td>500001</td>\n",
              "      <td>NEAR OCEAN</td>\n",
              "    </tr>\n",
              "    <tr>\n",
              "      <th>20381</th>\n",
              "      <td>-118.83</td>\n",
              "      <td>34.14</td>\n",
              "      <td>16</td>\n",
              "      <td>1956</td>\n",
              "      <td>312.0</td>\n",
              "      <td>671</td>\n",
              "      <td>319</td>\n",
              "      <td>6.4001</td>\n",
              "      <td>321800</td>\n",
              "      <td>NEAR OCEAN</td>\n",
              "    </tr>\n",
              "    <tr>\n",
              "      <th>20423</th>\n",
              "      <td>-119.00</td>\n",
              "      <td>34.08</td>\n",
              "      <td>17</td>\n",
              "      <td>1822</td>\n",
              "      <td>438.0</td>\n",
              "      <td>578</td>\n",
              "      <td>291</td>\n",
              "      <td>5.4346</td>\n",
              "      <td>428600</td>\n",
              "      <td>NEAR OCEAN</td>\n",
              "    </tr>\n",
              "    <tr>\n",
              "      <th>20424</th>\n",
              "      <td>-118.75</td>\n",
              "      <td>34.18</td>\n",
              "      <td>4</td>\n",
              "      <td>16704</td>\n",
              "      <td>2704.0</td>\n",
              "      <td>6187</td>\n",
              "      <td>2207</td>\n",
              "      <td>6.6122</td>\n",
              "      <td>357600</td>\n",
              "      <td>NEAR OCEAN</td>\n",
              "    </tr>\n",
              "    <tr>\n",
              "      <th>20425</th>\n",
              "      <td>-118.75</td>\n",
              "      <td>34.17</td>\n",
              "      <td>18</td>\n",
              "      <td>6217</td>\n",
              "      <td>858.0</td>\n",
              "      <td>2703</td>\n",
              "      <td>834</td>\n",
              "      <td>6.8075</td>\n",
              "      <td>325900</td>\n",
              "      <td>NEAR OCEAN</td>\n",
              "    </tr>\n",
              "  </tbody>\n",
              "</table>\n",
              "<p>2658 rows × 10 columns</p>\n",
              "</div>\n",
              "    <div class=\"colab-df-buttons\">\n",
              "\n",
              "  <div class=\"colab-df-container\">\n",
              "    <button class=\"colab-df-convert\" onclick=\"convertToInteractive('df-52ce8a1d-e977-4ec3-8eb1-f6c2a17f8a88')\"\n",
              "            title=\"Convert this dataframe to an interactive table.\"\n",
              "            style=\"display:none;\">\n",
              "\n",
              "  <svg xmlns=\"http://www.w3.org/2000/svg\" height=\"24px\" viewBox=\"0 -960 960 960\">\n",
              "    <path d=\"M120-120v-720h720v720H120Zm60-500h600v-160H180v160Zm220 220h160v-160H400v160Zm0 220h160v-160H400v160ZM180-400h160v-160H180v160Zm440 0h160v-160H620v160ZM180-180h160v-160H180v160Zm440 0h160v-160H620v160Z\"/>\n",
              "  </svg>\n",
              "    </button>\n",
              "\n",
              "  <style>\n",
              "    .colab-df-container {\n",
              "      display:flex;\n",
              "      gap: 12px;\n",
              "    }\n",
              "\n",
              "    .colab-df-convert {\n",
              "      background-color: #E8F0FE;\n",
              "      border: none;\n",
              "      border-radius: 50%;\n",
              "      cursor: pointer;\n",
              "      display: none;\n",
              "      fill: #1967D2;\n",
              "      height: 32px;\n",
              "      padding: 0 0 0 0;\n",
              "      width: 32px;\n",
              "    }\n",
              "\n",
              "    .colab-df-convert:hover {\n",
              "      background-color: #E2EBFA;\n",
              "      box-shadow: 0px 1px 2px rgba(60, 64, 67, 0.3), 0px 1px 3px 1px rgba(60, 64, 67, 0.15);\n",
              "      fill: #174EA6;\n",
              "    }\n",
              "\n",
              "    .colab-df-buttons div {\n",
              "      margin-bottom: 4px;\n",
              "    }\n",
              "\n",
              "    [theme=dark] .colab-df-convert {\n",
              "      background-color: #3B4455;\n",
              "      fill: #D2E3FC;\n",
              "    }\n",
              "\n",
              "    [theme=dark] .colab-df-convert:hover {\n",
              "      background-color: #434B5C;\n",
              "      box-shadow: 0px 1px 3px 1px rgba(0, 0, 0, 0.15);\n",
              "      filter: drop-shadow(0px 1px 2px rgba(0, 0, 0, 0.3));\n",
              "      fill: #FFFFFF;\n",
              "    }\n",
              "  </style>\n",
              "\n",
              "    <script>\n",
              "      const buttonEl =\n",
              "        document.querySelector('#df-52ce8a1d-e977-4ec3-8eb1-f6c2a17f8a88 button.colab-df-convert');\n",
              "      buttonEl.style.display =\n",
              "        google.colab.kernel.accessAllowed ? 'block' : 'none';\n",
              "\n",
              "      async function convertToInteractive(key) {\n",
              "        const element = document.querySelector('#df-52ce8a1d-e977-4ec3-8eb1-f6c2a17f8a88');\n",
              "        const dataTable =\n",
              "          await google.colab.kernel.invokeFunction('convertToInteractive',\n",
              "                                                    [key], {});\n",
              "        if (!dataTable) return;\n",
              "\n",
              "        const docLinkHtml = 'Like what you see? Visit the ' +\n",
              "          '<a target=\"_blank\" href=https://colab.research.google.com/notebooks/data_table.ipynb>data table notebook</a>'\n",
              "          + ' to learn more about interactive tables.';\n",
              "        element.innerHTML = '';\n",
              "        dataTable['output_type'] = 'display_data';\n",
              "        await google.colab.output.renderOutput(dataTable, element);\n",
              "        const docLink = document.createElement('div');\n",
              "        docLink.innerHTML = docLinkHtml;\n",
              "        element.appendChild(docLink);\n",
              "      }\n",
              "    </script>\n",
              "  </div>\n",
              "\n",
              "\n",
              "<div id=\"df-34c81cd1-8c5f-4c3b-a6b8-9dc9ddf29f92\">\n",
              "  <button class=\"colab-df-quickchart\" onclick=\"quickchart('df-34c81cd1-8c5f-4c3b-a6b8-9dc9ddf29f92')\"\n",
              "            title=\"Suggest charts.\"\n",
              "            style=\"display:none;\">\n",
              "\n",
              "<svg xmlns=\"http://www.w3.org/2000/svg\" height=\"24px\"viewBox=\"0 0 24 24\"\n",
              "     width=\"24px\">\n",
              "    <g>\n",
              "        <path d=\"M19 3H5c-1.1 0-2 .9-2 2v14c0 1.1.9 2 2 2h14c1.1 0 2-.9 2-2V5c0-1.1-.9-2-2-2zM9 17H7v-7h2v7zm4 0h-2V7h2v10zm4 0h-2v-4h2v4z\"/>\n",
              "    </g>\n",
              "</svg>\n",
              "  </button>\n",
              "\n",
              "<style>\n",
              "  .colab-df-quickchart {\n",
              "    background-color: #E8F0FE;\n",
              "    border: none;\n",
              "    border-radius: 50%;\n",
              "    cursor: pointer;\n",
              "    display: none;\n",
              "    fill: #1967D2;\n",
              "    height: 32px;\n",
              "    padding: 0 0 0 0;\n",
              "    width: 32px;\n",
              "  }\n",
              "\n",
              "  .colab-df-quickchart:hover {\n",
              "    background-color: #E2EBFA;\n",
              "    box-shadow: 0px 1px 2px rgba(60, 64, 67, 0.3), 0px 1px 3px 1px rgba(60, 64, 67, 0.15);\n",
              "    fill: #174EA6;\n",
              "  }\n",
              "\n",
              "  [theme=dark] .colab-df-quickchart {\n",
              "    background-color: #3B4455;\n",
              "    fill: #D2E3FC;\n",
              "  }\n",
              "\n",
              "  [theme=dark] .colab-df-quickchart:hover {\n",
              "    background-color: #434B5C;\n",
              "    box-shadow: 0px 1px 3px 1px rgba(0, 0, 0, 0.15);\n",
              "    filter: drop-shadow(0px 1px 2px rgba(0, 0, 0, 0.3));\n",
              "    fill: #FFFFFF;\n",
              "  }\n",
              "</style>\n",
              "\n",
              "  <script>\n",
              "    async function quickchart(key) {\n",
              "      const charts = await google.colab.kernel.invokeFunction(\n",
              "          'suggestCharts', [key], {});\n",
              "    }\n",
              "    (() => {\n",
              "      let quickchartButtonEl =\n",
              "        document.querySelector('#df-34c81cd1-8c5f-4c3b-a6b8-9dc9ddf29f92 button');\n",
              "      quickchartButtonEl.style.display =\n",
              "        google.colab.kernel.accessAllowed ? 'block' : 'none';\n",
              "    })();\n",
              "  </script>\n",
              "</div>\n",
              "    </div>\n",
              "  </div>\n"
            ]
          },
          "metadata": {},
          "execution_count": 79
        }
      ]
    },
    {
      "cell_type": "markdown",
      "source": [
        "9. Find the mean and median of the median income for the data set created in question 8."
      ],
      "metadata": {
        "id": "ZRxC36TtlSe1"
      }
    },
    {
      "cell_type": "code",
      "source": [
        "da[\"median_income\"].agg(['mean','median']) #using aggregation function to calculate both mean and median"
      ],
      "metadata": {
        "colab": {
          "base_uri": "https://localhost:8080/"
        },
        "id": "GUid5PB8lTYV",
        "outputId": "a877c86d-91ed-44c6-fce6-9946d73cc7ed"
      },
      "execution_count": null,
      "outputs": [
        {
          "output_type": "execute_result",
          "data": {
            "text/plain": [
              "mean      4.005785\n",
              "median    3.647050\n",
              "Name: median_income, dtype: float64"
            ]
          },
          "metadata": {},
          "execution_count": 82
        }
      ]
    },
    {
      "cell_type": "markdown",
      "source": [
        "we can observe that  the mean and median income of people who houses are  near the ocean ."
      ],
      "metadata": {
        "id": "EhKWTXAV_nzw"
      }
    },
    {
      "cell_type": "markdown",
      "source": [
        "10. Please create a new column named total_bedroom_size. If the total bedrooms is 10 or less, it should be quoted as small. If the total bedrooms is 11 or more but less than 1000, it should be medium, otherwise it should be considered large."
      ],
      "metadata": {
        "id": "uih0murxlYWZ"
      }
    },
    {
      "cell_type": "code",
      "source": [
        "da[\"total_bedroom_size\"] = 0    #creating a new column to the data frame"
      ],
      "metadata": {
        "id": "30gZIkThlmNk"
      },
      "execution_count": null,
      "outputs": []
    },
    {
      "cell_type": "code",
      "source": [
        "da.loc[da[\"total_bedrooms\"] <= 10, \"total_bedroom_size\"] = \"small\"#using loc method to select the rows that meet the condition and assign value to the column\n",
        "da.loc[(da[\"total_bedrooms\"] >= 11) & (da[\"total_bedrooms\"] <= 1000), \"total_bedroom_size\"] = \"medium\"\n",
        "da.loc[da[\"total_bedrooms\"] > 1000, \"total_bedroom_size\"] = \"large\""
      ],
      "metadata": {
        "id": "hS8i06xqsPma"
      },
      "execution_count": null,
      "outputs": []
    },
    {
      "cell_type": "code",
      "source": [
        "da.head()"
      ],
      "metadata": {
        "colab": {
          "base_uri": "https://localhost:8080/",
          "height": 226
        },
        "id": "zFqeA5-VsYqM",
        "outputId": "db36a165-1ae9-4418-c951-fe7493329fb7"
      },
      "execution_count": null,
      "outputs": [
        {
          "output_type": "execute_result",
          "data": {
            "text/plain": [
              "      longitude  latitude  housing_median_age  total_rooms  total_bedrooms  \\\n",
              "1850    -124.17     41.80                  16         2739           480.0   \n",
              "1851    -124.30     41.80                  19         2672           552.0   \n",
              "1852    -124.23     41.75                  11         3159           616.0   \n",
              "1853    -124.21     41.77                  17         3461           722.0   \n",
              "1854    -124.19     41.78                  15         3140           714.0   \n",
              "\n",
              "      population  households  median_income  median_house_value  \\\n",
              "1850        1259         436         3.7557              109400   \n",
              "1851        1298         478         1.9797               85800   \n",
              "1852        1343         479         2.4805               73200   \n",
              "1853        1947         647         2.5795               68400   \n",
              "1854        1645         640         1.6654               74600   \n",
              "\n",
              "     ocean_proximity total_bedroom_size  \n",
              "1850      NEAR OCEAN             medium  \n",
              "1851      NEAR OCEAN             medium  \n",
              "1852      NEAR OCEAN             medium  \n",
              "1853      NEAR OCEAN             medium  \n",
              "1854      NEAR OCEAN             medium  "
            ],
            "text/html": [
              "\n",
              "  <div id=\"df-d4c0e62d-a4ca-4f79-92dc-b263eb7871c3\" class=\"colab-df-container\">\n",
              "    <div>\n",
              "<style scoped>\n",
              "    .dataframe tbody tr th:only-of-type {\n",
              "        vertical-align: middle;\n",
              "    }\n",
              "\n",
              "    .dataframe tbody tr th {\n",
              "        vertical-align: top;\n",
              "    }\n",
              "\n",
              "    .dataframe thead th {\n",
              "        text-align: right;\n",
              "    }\n",
              "</style>\n",
              "<table border=\"1\" class=\"dataframe\">\n",
              "  <thead>\n",
              "    <tr style=\"text-align: right;\">\n",
              "      <th></th>\n",
              "      <th>longitude</th>\n",
              "      <th>latitude</th>\n",
              "      <th>housing_median_age</th>\n",
              "      <th>total_rooms</th>\n",
              "      <th>total_bedrooms</th>\n",
              "      <th>population</th>\n",
              "      <th>households</th>\n",
              "      <th>median_income</th>\n",
              "      <th>median_house_value</th>\n",
              "      <th>ocean_proximity</th>\n",
              "      <th>total_bedroom_size</th>\n",
              "    </tr>\n",
              "  </thead>\n",
              "  <tbody>\n",
              "    <tr>\n",
              "      <th>1850</th>\n",
              "      <td>-124.17</td>\n",
              "      <td>41.80</td>\n",
              "      <td>16</td>\n",
              "      <td>2739</td>\n",
              "      <td>480.0</td>\n",
              "      <td>1259</td>\n",
              "      <td>436</td>\n",
              "      <td>3.7557</td>\n",
              "      <td>109400</td>\n",
              "      <td>NEAR OCEAN</td>\n",
              "      <td>medium</td>\n",
              "    </tr>\n",
              "    <tr>\n",
              "      <th>1851</th>\n",
              "      <td>-124.30</td>\n",
              "      <td>41.80</td>\n",
              "      <td>19</td>\n",
              "      <td>2672</td>\n",
              "      <td>552.0</td>\n",
              "      <td>1298</td>\n",
              "      <td>478</td>\n",
              "      <td>1.9797</td>\n",
              "      <td>85800</td>\n",
              "      <td>NEAR OCEAN</td>\n",
              "      <td>medium</td>\n",
              "    </tr>\n",
              "    <tr>\n",
              "      <th>1852</th>\n",
              "      <td>-124.23</td>\n",
              "      <td>41.75</td>\n",
              "      <td>11</td>\n",
              "      <td>3159</td>\n",
              "      <td>616.0</td>\n",
              "      <td>1343</td>\n",
              "      <td>479</td>\n",
              "      <td>2.4805</td>\n",
              "      <td>73200</td>\n",
              "      <td>NEAR OCEAN</td>\n",
              "      <td>medium</td>\n",
              "    </tr>\n",
              "    <tr>\n",
              "      <th>1853</th>\n",
              "      <td>-124.21</td>\n",
              "      <td>41.77</td>\n",
              "      <td>17</td>\n",
              "      <td>3461</td>\n",
              "      <td>722.0</td>\n",
              "      <td>1947</td>\n",
              "      <td>647</td>\n",
              "      <td>2.5795</td>\n",
              "      <td>68400</td>\n",
              "      <td>NEAR OCEAN</td>\n",
              "      <td>medium</td>\n",
              "    </tr>\n",
              "    <tr>\n",
              "      <th>1854</th>\n",
              "      <td>-124.19</td>\n",
              "      <td>41.78</td>\n",
              "      <td>15</td>\n",
              "      <td>3140</td>\n",
              "      <td>714.0</td>\n",
              "      <td>1645</td>\n",
              "      <td>640</td>\n",
              "      <td>1.6654</td>\n",
              "      <td>74600</td>\n",
              "      <td>NEAR OCEAN</td>\n",
              "      <td>medium</td>\n",
              "    </tr>\n",
              "  </tbody>\n",
              "</table>\n",
              "</div>\n",
              "    <div class=\"colab-df-buttons\">\n",
              "\n",
              "  <div class=\"colab-df-container\">\n",
              "    <button class=\"colab-df-convert\" onclick=\"convertToInteractive('df-d4c0e62d-a4ca-4f79-92dc-b263eb7871c3')\"\n",
              "            title=\"Convert this dataframe to an interactive table.\"\n",
              "            style=\"display:none;\">\n",
              "\n",
              "  <svg xmlns=\"http://www.w3.org/2000/svg\" height=\"24px\" viewBox=\"0 -960 960 960\">\n",
              "    <path d=\"M120-120v-720h720v720H120Zm60-500h600v-160H180v160Zm220 220h160v-160H400v160Zm0 220h160v-160H400v160ZM180-400h160v-160H180v160Zm440 0h160v-160H620v160ZM180-180h160v-160H180v160Zm440 0h160v-160H620v160Z\"/>\n",
              "  </svg>\n",
              "    </button>\n",
              "\n",
              "  <style>\n",
              "    .colab-df-container {\n",
              "      display:flex;\n",
              "      gap: 12px;\n",
              "    }\n",
              "\n",
              "    .colab-df-convert {\n",
              "      background-color: #E8F0FE;\n",
              "      border: none;\n",
              "      border-radius: 50%;\n",
              "      cursor: pointer;\n",
              "      display: none;\n",
              "      fill: #1967D2;\n",
              "      height: 32px;\n",
              "      padding: 0 0 0 0;\n",
              "      width: 32px;\n",
              "    }\n",
              "\n",
              "    .colab-df-convert:hover {\n",
              "      background-color: #E2EBFA;\n",
              "      box-shadow: 0px 1px 2px rgba(60, 64, 67, 0.3), 0px 1px 3px 1px rgba(60, 64, 67, 0.15);\n",
              "      fill: #174EA6;\n",
              "    }\n",
              "\n",
              "    .colab-df-buttons div {\n",
              "      margin-bottom: 4px;\n",
              "    }\n",
              "\n",
              "    [theme=dark] .colab-df-convert {\n",
              "      background-color: #3B4455;\n",
              "      fill: #D2E3FC;\n",
              "    }\n",
              "\n",
              "    [theme=dark] .colab-df-convert:hover {\n",
              "      background-color: #434B5C;\n",
              "      box-shadow: 0px 1px 3px 1px rgba(0, 0, 0, 0.15);\n",
              "      filter: drop-shadow(0px 1px 2px rgba(0, 0, 0, 0.3));\n",
              "      fill: #FFFFFF;\n",
              "    }\n",
              "  </style>\n",
              "\n",
              "    <script>\n",
              "      const buttonEl =\n",
              "        document.querySelector('#df-d4c0e62d-a4ca-4f79-92dc-b263eb7871c3 button.colab-df-convert');\n",
              "      buttonEl.style.display =\n",
              "        google.colab.kernel.accessAllowed ? 'block' : 'none';\n",
              "\n",
              "      async function convertToInteractive(key) {\n",
              "        const element = document.querySelector('#df-d4c0e62d-a4ca-4f79-92dc-b263eb7871c3');\n",
              "        const dataTable =\n",
              "          await google.colab.kernel.invokeFunction('convertToInteractive',\n",
              "                                                    [key], {});\n",
              "        if (!dataTable) return;\n",
              "\n",
              "        const docLinkHtml = 'Like what you see? Visit the ' +\n",
              "          '<a target=\"_blank\" href=https://colab.research.google.com/notebooks/data_table.ipynb>data table notebook</a>'\n",
              "          + ' to learn more about interactive tables.';\n",
              "        element.innerHTML = '';\n",
              "        dataTable['output_type'] = 'display_data';\n",
              "        await google.colab.output.renderOutput(dataTable, element);\n",
              "        const docLink = document.createElement('div');\n",
              "        docLink.innerHTML = docLinkHtml;\n",
              "        element.appendChild(docLink);\n",
              "      }\n",
              "    </script>\n",
              "  </div>\n",
              "\n",
              "\n",
              "<div id=\"df-700cf689-f5f6-4adb-ad17-7f089aa3a4f2\">\n",
              "  <button class=\"colab-df-quickchart\" onclick=\"quickchart('df-700cf689-f5f6-4adb-ad17-7f089aa3a4f2')\"\n",
              "            title=\"Suggest charts.\"\n",
              "            style=\"display:none;\">\n",
              "\n",
              "<svg xmlns=\"http://www.w3.org/2000/svg\" height=\"24px\"viewBox=\"0 0 24 24\"\n",
              "     width=\"24px\">\n",
              "    <g>\n",
              "        <path d=\"M19 3H5c-1.1 0-2 .9-2 2v14c0 1.1.9 2 2 2h14c1.1 0 2-.9 2-2V5c0-1.1-.9-2-2-2zM9 17H7v-7h2v7zm4 0h-2V7h2v10zm4 0h-2v-4h2v4z\"/>\n",
              "    </g>\n",
              "</svg>\n",
              "  </button>\n",
              "\n",
              "<style>\n",
              "  .colab-df-quickchart {\n",
              "    background-color: #E8F0FE;\n",
              "    border: none;\n",
              "    border-radius: 50%;\n",
              "    cursor: pointer;\n",
              "    display: none;\n",
              "    fill: #1967D2;\n",
              "    height: 32px;\n",
              "    padding: 0 0 0 0;\n",
              "    width: 32px;\n",
              "  }\n",
              "\n",
              "  .colab-df-quickchart:hover {\n",
              "    background-color: #E2EBFA;\n",
              "    box-shadow: 0px 1px 2px rgba(60, 64, 67, 0.3), 0px 1px 3px 1px rgba(60, 64, 67, 0.15);\n",
              "    fill: #174EA6;\n",
              "  }\n",
              "\n",
              "  [theme=dark] .colab-df-quickchart {\n",
              "    background-color: #3B4455;\n",
              "    fill: #D2E3FC;\n",
              "  }\n",
              "\n",
              "  [theme=dark] .colab-df-quickchart:hover {\n",
              "    background-color: #434B5C;\n",
              "    box-shadow: 0px 1px 3px 1px rgba(0, 0, 0, 0.15);\n",
              "    filter: drop-shadow(0px 1px 2px rgba(0, 0, 0, 0.3));\n",
              "    fill: #FFFFFF;\n",
              "  }\n",
              "</style>\n",
              "\n",
              "  <script>\n",
              "    async function quickchart(key) {\n",
              "      const charts = await google.colab.kernel.invokeFunction(\n",
              "          'suggestCharts', [key], {});\n",
              "    }\n",
              "    (() => {\n",
              "      let quickchartButtonEl =\n",
              "        document.querySelector('#df-700cf689-f5f6-4adb-ad17-7f089aa3a4f2 button');\n",
              "      quickchartButtonEl.style.display =\n",
              "        google.colab.kernel.accessAllowed ? 'block' : 'none';\n",
              "    })();\n",
              "  </script>\n",
              "</div>\n",
              "    </div>\n",
              "  </div>\n"
            ]
          },
          "metadata": {},
          "execution_count": 85
        }
      ]
    },
    {
      "cell_type": "code",
      "source": [
        "da[\"total_bedroom_size\"].value_counts()#checking the categories and their total by using value_counts method"
      ],
      "metadata": {
        "colab": {
          "base_uri": "https://localhost:8080/"
        },
        "id": "3jIGnfsVsiqw",
        "outputId": "1ada5a3a-cb77-428e-848e-8fa43e0d59ea"
      },
      "execution_count": null,
      "outputs": [
        {
          "output_type": "execute_result",
          "data": {
            "text/plain": [
              "medium    2443\n",
              "large      208\n",
              "small        7\n",
              "Name: total_bedroom_size, dtype: int64"
            ]
          },
          "metadata": {},
          "execution_count": 87
        }
      ]
    },
    {
      "cell_type": "code",
      "source": [
        "sns.countplot(x =da[\"total_bedroom_size\"],label = \"upper right\")"
      ],
      "metadata": {
        "colab": {
          "base_uri": "https://localhost:8080/",
          "height": 468
        },
        "id": "8NqtZSAVsewX",
        "outputId": "392509ed-533e-4f8a-f971-a91b882be821"
      },
      "execution_count": null,
      "outputs": [
        {
          "output_type": "execute_result",
          "data": {
            "text/plain": [
              "<Axes: xlabel='total_bedroom_size', ylabel='count'>"
            ]
          },
          "metadata": {},
          "execution_count": 86
        },
        {
          "output_type": "display_data",
          "data": {
            "text/plain": [
              "<Figure size 640x480 with 1 Axes>"
            ],
            "image/png": "[encoded data removed]"
          },
          "metadata": {}
        }
      ]
    },
    {
      "cell_type": "markdown",
      "source": [
        "Conclusion:\n",
        "I have successfully loaded the data,Handled missing values,explored the data with it's many features and visualised with distribution of data .\n"
      ],
      "metadata": {
        "id": "JIeRQsbblorp"
      }
    }
  ]
}